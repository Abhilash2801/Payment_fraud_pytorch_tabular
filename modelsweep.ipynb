{
 "cells": [
  {
   "cell_type": "code",
   "execution_count": 1,
   "id": "3f6d603d",
   "metadata": {},
   "outputs": [],
   "source": [
    "import pytorch_tabular"
   ]
  },
  {
   "cell_type": "code",
   "execution_count": 2,
   "id": "3066753f",
   "metadata": {},
   "outputs": [],
   "source": [
    "import pandas as pd"
   ]
  },
  {
   "cell_type": "code",
   "execution_count": 3,
   "id": "80b2dc4f",
   "metadata": {},
   "outputs": [],
   "source": [
    "df=pd.read_csv(\"newest_data.csv\")"
   ]
  },
  {
   "cell_type": "code",
   "execution_count": 4,
   "id": "d4a651b3",
   "metadata": {
    "scrolled": true
   },
   "outputs": [
    {
     "data": {
      "text/html": [
       "<div>\n",
       "<style scoped>\n",
       "    .dataframe tbody tr th:only-of-type {\n",
       "        vertical-align: middle;\n",
       "    }\n",
       "\n",
       "    .dataframe tbody tr th {\n",
       "        vertical-align: top;\n",
       "    }\n",
       "\n",
       "    .dataframe thead th {\n",
       "        text-align: right;\n",
       "    }\n",
       "</style>\n",
       "<table border=\"1\" class=\"dataframe\">\n",
       "  <thead>\n",
       "    <tr style=\"text-align: right;\">\n",
       "      <th></th>\n",
       "      <th>cc_num</th>\n",
       "      <th>merchant</th>\n",
       "      <th>category</th>\n",
       "      <th>amt</th>\n",
       "      <th>first</th>\n",
       "      <th>last</th>\n",
       "      <th>gender</th>\n",
       "      <th>street</th>\n",
       "      <th>city</th>\n",
       "      <th>state</th>\n",
       "      <th>...</th>\n",
       "      <th>total_transaction_amt</th>\n",
       "      <th>trans_year</th>\n",
       "      <th>trans_month</th>\n",
       "      <th>trans_day</th>\n",
       "      <th>trans_hour</th>\n",
       "      <th>trans_minute</th>\n",
       "      <th>trans_second</th>\n",
       "      <th>dob_year</th>\n",
       "      <th>dob_month</th>\n",
       "      <th>dob_day</th>\n",
       "    </tr>\n",
       "  </thead>\n",
       "  <tbody>\n",
       "    <tr>\n",
       "      <th>0</th>\n",
       "      <td>4.658610e+12</td>\n",
       "      <td>fraud_Subramaniam-Goyal Pvt Ltd</td>\n",
       "      <td>online_shopping</td>\n",
       "      <td>8548.59</td>\n",
       "      <td>Divit</td>\n",
       "      <td>Tiwari</td>\n",
       "      <td>M</td>\n",
       "      <td>07/547, Baral Chowk, Solapur-734676</td>\n",
       "      <td>Berhampur</td>\n",
       "      <td>Uttarakhand</td>\n",
       "      <td>...</td>\n",
       "      <td>51291.540000</td>\n",
       "      <td>2023</td>\n",
       "      <td>3</td>\n",
       "      <td>21</td>\n",
       "      <td>11</td>\n",
       "      <td>41</td>\n",
       "      <td>0</td>\n",
       "      <td>1986</td>\n",
       "      <td>7</td>\n",
       "      <td>23</td>\n",
       "    </tr>\n",
       "    <tr>\n",
       "      <th>1</th>\n",
       "      <td>4.041460e+12</td>\n",
       "      <td>fraud_Agrawal Group Pvt Ltd</td>\n",
       "      <td>online_shopping</td>\n",
       "      <td>7012.15</td>\n",
       "      <td>Himmat</td>\n",
       "      <td>Basak</td>\n",
       "      <td>F</td>\n",
       "      <td>H.No. 721, Johal Street, Gaya 138332</td>\n",
       "      <td>Shimla</td>\n",
       "      <td>Jharkhand</td>\n",
       "      <td>...</td>\n",
       "      <td>63109.350000</td>\n",
       "      <td>2022</td>\n",
       "      <td>10</td>\n",
       "      <td>20</td>\n",
       "      <td>2</td>\n",
       "      <td>16</td>\n",
       "      <td>0</td>\n",
       "      <td>1954</td>\n",
       "      <td>7</td>\n",
       "      <td>14</td>\n",
       "    </tr>\n",
       "    <tr>\n",
       "      <th>2</th>\n",
       "      <td>4.273900e+15</td>\n",
       "      <td>fraud_Hora, Tella and Bawa Pvt Ltd</td>\n",
       "      <td>online_shopping</td>\n",
       "      <td>3294.28</td>\n",
       "      <td>Tejas</td>\n",
       "      <td>Soni</td>\n",
       "      <td>F</td>\n",
       "      <td>728, Anne Road, Madhyamgram-169150</td>\n",
       "      <td>Shahjahanpur</td>\n",
       "      <td>Punjab</td>\n",
       "      <td>...</td>\n",
       "      <td>113009.360000</td>\n",
       "      <td>2023</td>\n",
       "      <td>3</td>\n",
       "      <td>21</td>\n",
       "      <td>11</td>\n",
       "      <td>41</td>\n",
       "      <td>0</td>\n",
       "      <td>1996</td>\n",
       "      <td>7</td>\n",
       "      <td>27</td>\n",
       "    </tr>\n",
       "    <tr>\n",
       "      <th>3</th>\n",
       "      <td>3.530110e+15</td>\n",
       "      <td>fraud_Devan, Iyengar and Badami Pvt Ltd</td>\n",
       "      <td>online_shopping</td>\n",
       "      <td>3143.95</td>\n",
       "      <td>Shalv</td>\n",
       "      <td>Kata</td>\n",
       "      <td>F</td>\n",
       "      <td>30/10, Mane Road, Faridabad 973707</td>\n",
       "      <td>Satna</td>\n",
       "      <td>Sikkim</td>\n",
       "      <td>...</td>\n",
       "      <td>82285.272863</td>\n",
       "      <td>2022</td>\n",
       "      <td>6</td>\n",
       "      <td>12</td>\n",
       "      <td>3</td>\n",
       "      <td>47</td>\n",
       "      <td>0</td>\n",
       "      <td>1996</td>\n",
       "      <td>2</td>\n",
       "      <td>6</td>\n",
       "    </tr>\n",
       "    <tr>\n",
       "      <th>4</th>\n",
       "      <td>4.791230e+15</td>\n",
       "      <td>fraud_Date, Kurian and Sule Pvt Ltd</td>\n",
       "      <td>online_shopping</td>\n",
       "      <td>738.24</td>\n",
       "      <td>Miraan</td>\n",
       "      <td>Srivastava</td>\n",
       "      <td>F</td>\n",
       "      <td>84/474, Baria Road, Adoni-525538</td>\n",
       "      <td>Davanagere</td>\n",
       "      <td>Tripura</td>\n",
       "      <td>...</td>\n",
       "      <td>4429.440000</td>\n",
       "      <td>2024</td>\n",
       "      <td>2</td>\n",
       "      <td>11</td>\n",
       "      <td>15</td>\n",
       "      <td>15</td>\n",
       "      <td>0</td>\n",
       "      <td>1965</td>\n",
       "      <td>10</td>\n",
       "      <td>28</td>\n",
       "    </tr>\n",
       "    <tr>\n",
       "      <th>...</th>\n",
       "      <td>...</td>\n",
       "      <td>...</td>\n",
       "      <td>...</td>\n",
       "      <td>...</td>\n",
       "      <td>...</td>\n",
       "      <td>...</td>\n",
       "      <td>...</td>\n",
       "      <td>...</td>\n",
       "      <td>...</td>\n",
       "      <td>...</td>\n",
       "      <td>...</td>\n",
       "      <td>...</td>\n",
       "      <td>...</td>\n",
       "      <td>...</td>\n",
       "      <td>...</td>\n",
       "      <td>...</td>\n",
       "      <td>...</td>\n",
       "      <td>...</td>\n",
       "      <td>...</td>\n",
       "      <td>...</td>\n",
       "      <td>...</td>\n",
       "    </tr>\n",
       "    <tr>\n",
       "      <th>6565</th>\n",
       "      <td>3.573230e+15</td>\n",
       "      <td>fraud_Chanda, Gade and Vaidya Pvt Ltd</td>\n",
       "      <td>travel</td>\n",
       "      <td>1054.76</td>\n",
       "      <td>Tejas</td>\n",
       "      <td>Srinivasan</td>\n",
       "      <td>M</td>\n",
       "      <td>43/89, Bumb Road, Jodhpur-140664</td>\n",
       "      <td>Aurangabad</td>\n",
       "      <td>Uttarakhand</td>\n",
       "      <td>...</td>\n",
       "      <td>11743.720000</td>\n",
       "      <td>2023</td>\n",
       "      <td>3</td>\n",
       "      <td>21</td>\n",
       "      <td>11</td>\n",
       "      <td>41</td>\n",
       "      <td>0</td>\n",
       "      <td>1990</td>\n",
       "      <td>10</td>\n",
       "      <td>9</td>\n",
       "    </tr>\n",
       "    <tr>\n",
       "      <th>6566</th>\n",
       "      <td>3.481050e+14</td>\n",
       "      <td>fraud_Tripathi-Karpe Pvt Ltd</td>\n",
       "      <td>travel</td>\n",
       "      <td>7629.93</td>\n",
       "      <td>Ranbir</td>\n",
       "      <td>Bora</td>\n",
       "      <td>F</td>\n",
       "      <td>85/219, Ramesh Nagar, Pondicherry 277735</td>\n",
       "      <td>Giridih</td>\n",
       "      <td>Tamil Nadu</td>\n",
       "      <td>...</td>\n",
       "      <td>38149.650000</td>\n",
       "      <td>2023</td>\n",
       "      <td>12</td>\n",
       "      <td>28</td>\n",
       "      <td>0</td>\n",
       "      <td>19</td>\n",
       "      <td>0</td>\n",
       "      <td>1954</td>\n",
       "      <td>2</td>\n",
       "      <td>16</td>\n",
       "    </tr>\n",
       "    <tr>\n",
       "      <th>6567</th>\n",
       "      <td>4.117590e+12</td>\n",
       "      <td>fraud_Lalla PLC Pvt Ltd</td>\n",
       "      <td>travel</td>\n",
       "      <td>8697.49</td>\n",
       "      <td>Piya</td>\n",
       "      <td>Dave</td>\n",
       "      <td>F</td>\n",
       "      <td>H.No. 472, Din Circle, Miryalaguda 438331</td>\n",
       "      <td>Aurangabad</td>\n",
       "      <td>Sikkim</td>\n",
       "      <td>...</td>\n",
       "      <td>99376.400000</td>\n",
       "      <td>2022</td>\n",
       "      <td>6</td>\n",
       "      <td>21</td>\n",
       "      <td>4</td>\n",
       "      <td>54</td>\n",
       "      <td>0</td>\n",
       "      <td>1952</td>\n",
       "      <td>6</td>\n",
       "      <td>28</td>\n",
       "    </tr>\n",
       "    <tr>\n",
       "      <th>6568</th>\n",
       "      <td>4.572190e+18</td>\n",
       "      <td>fraud_Lalla PLC Pvt Ltd</td>\n",
       "      <td>travel</td>\n",
       "      <td>7771.61</td>\n",
       "      <td>Zeeshan</td>\n",
       "      <td>Zacharia</td>\n",
       "      <td>F</td>\n",
       "      <td>07/16, Chakraborty Circle, Medininagar 534484</td>\n",
       "      <td>Faridabad</td>\n",
       "      <td>Tamil Nadu</td>\n",
       "      <td>...</td>\n",
       "      <td>157003.770000</td>\n",
       "      <td>2022</td>\n",
       "      <td>11</td>\n",
       "      <td>22</td>\n",
       "      <td>5</td>\n",
       "      <td>8</td>\n",
       "      <td>0</td>\n",
       "      <td>1987</td>\n",
       "      <td>1</td>\n",
       "      <td>6</td>\n",
       "    </tr>\n",
       "    <tr>\n",
       "      <th>6569</th>\n",
       "      <td>4.314920e+15</td>\n",
       "      <td>fraud_Lal, Wadhwa and Dar Pvt Ltd</td>\n",
       "      <td>online_shopping</td>\n",
       "      <td>1684.92</td>\n",
       "      <td>Tejas</td>\n",
       "      <td>Desai</td>\n",
       "      <td>M</td>\n",
       "      <td>15, Hans Chowk, Kolhapur 654806</td>\n",
       "      <td>Kirari Suleman Nagar</td>\n",
       "      <td>Bihar</td>\n",
       "      <td>...</td>\n",
       "      <td>3369.840000</td>\n",
       "      <td>2023</td>\n",
       "      <td>4</td>\n",
       "      <td>25</td>\n",
       "      <td>22</td>\n",
       "      <td>15</td>\n",
       "      <td>0</td>\n",
       "      <td>1950</td>\n",
       "      <td>3</td>\n",
       "      <td>11</td>\n",
       "    </tr>\n",
       "  </tbody>\n",
       "</table>\n",
       "<p>6570 rows × 54 columns</p>\n",
       "</div>"
      ],
      "text/plain": [
       "            cc_num                                 merchant         category  \\\n",
       "0     4.658610e+12          fraud_Subramaniam-Goyal Pvt Ltd  online_shopping   \n",
       "1     4.041460e+12              fraud_Agrawal Group Pvt Ltd  online_shopping   \n",
       "2     4.273900e+15       fraud_Hora, Tella and Bawa Pvt Ltd  online_shopping   \n",
       "3     3.530110e+15  fraud_Devan, Iyengar and Badami Pvt Ltd  online_shopping   \n",
       "4     4.791230e+15      fraud_Date, Kurian and Sule Pvt Ltd  online_shopping   \n",
       "...            ...                                      ...              ...   \n",
       "6565  3.573230e+15    fraud_Chanda, Gade and Vaidya Pvt Ltd           travel   \n",
       "6566  3.481050e+14             fraud_Tripathi-Karpe Pvt Ltd           travel   \n",
       "6567  4.117590e+12                  fraud_Lalla PLC Pvt Ltd           travel   \n",
       "6568  4.572190e+18                  fraud_Lalla PLC Pvt Ltd           travel   \n",
       "6569  4.314920e+15        fraud_Lal, Wadhwa and Dar Pvt Ltd  online_shopping   \n",
       "\n",
       "          amt    first        last gender  \\\n",
       "0     8548.59    Divit      Tiwari      M   \n",
       "1     7012.15   Himmat       Basak      F   \n",
       "2     3294.28    Tejas        Soni      F   \n",
       "3     3143.95    Shalv        Kata      F   \n",
       "4      738.24   Miraan  Srivastava      F   \n",
       "...       ...      ...         ...    ...   \n",
       "6565  1054.76    Tejas  Srinivasan      M   \n",
       "6566  7629.93   Ranbir        Bora      F   \n",
       "6567  8697.49     Piya        Dave      F   \n",
       "6568  7771.61  Zeeshan    Zacharia      F   \n",
       "6569  1684.92    Tejas       Desai      M   \n",
       "\n",
       "                                             street                  city  \\\n",
       "0               07/547, Baral Chowk, Solapur-734676             Berhampur   \n",
       "1              H.No. 721, Johal Street, Gaya 138332                Shimla   \n",
       "2                728, Anne Road, Madhyamgram-169150          Shahjahanpur   \n",
       "3                30/10, Mane Road, Faridabad 973707                 Satna   \n",
       "4                  84/474, Baria Road, Adoni-525538            Davanagere   \n",
       "...                                             ...                   ...   \n",
       "6565               43/89, Bumb Road, Jodhpur-140664            Aurangabad   \n",
       "6566       85/219, Ramesh Nagar, Pondicherry 277735               Giridih   \n",
       "6567      H.No. 472, Din Circle, Miryalaguda 438331            Aurangabad   \n",
       "6568  07/16, Chakraborty Circle, Medininagar 534484             Faridabad   \n",
       "6569                15, Hans Chowk, Kolhapur 654806  Kirari Suleman Nagar   \n",
       "\n",
       "            state  ...  total_transaction_amt  trans_year  trans_month  \\\n",
       "0     Uttarakhand  ...           51291.540000        2023            3   \n",
       "1       Jharkhand  ...           63109.350000        2022           10   \n",
       "2          Punjab  ...          113009.360000        2023            3   \n",
       "3          Sikkim  ...           82285.272863        2022            6   \n",
       "4         Tripura  ...            4429.440000        2024            2   \n",
       "...           ...  ...                    ...         ...          ...   \n",
       "6565  Uttarakhand  ...           11743.720000        2023            3   \n",
       "6566   Tamil Nadu  ...           38149.650000        2023           12   \n",
       "6567       Sikkim  ...           99376.400000        2022            6   \n",
       "6568   Tamil Nadu  ...          157003.770000        2022           11   \n",
       "6569        Bihar  ...            3369.840000        2023            4   \n",
       "\n",
       "     trans_day  trans_hour  trans_minute  trans_second  dob_year  dob_month  \\\n",
       "0           21          11            41             0      1986          7   \n",
       "1           20           2            16             0      1954          7   \n",
       "2           21          11            41             0      1996          7   \n",
       "3           12           3            47             0      1996          2   \n",
       "4           11          15            15             0      1965         10   \n",
       "...        ...         ...           ...           ...       ...        ...   \n",
       "6565        21          11            41             0      1990         10   \n",
       "6566        28           0            19             0      1954          2   \n",
       "6567        21           4            54             0      1952          6   \n",
       "6568        22           5             8             0      1987          1   \n",
       "6569        25          22            15             0      1950          3   \n",
       "\n",
       "     dob_day  \n",
       "0         23  \n",
       "1         14  \n",
       "2         27  \n",
       "3          6  \n",
       "4         28  \n",
       "...      ...  \n",
       "6565       9  \n",
       "6566      16  \n",
       "6567      28  \n",
       "6568       6  \n",
       "6569      11  \n",
       "\n",
       "[6570 rows x 54 columns]"
      ]
     },
     "execution_count": 4,
     "metadata": {},
     "output_type": "execute_result"
    }
   ],
   "source": [
    "df"
   ]
  },
  {
   "cell_type": "code",
   "execution_count": 5,
   "id": "8c8a8c88",
   "metadata": {},
   "outputs": [],
   "source": [
    "cat_col_names=df.select_dtypes(include=[\"object\"]).columns.tolist()\n",
    "num_col_names=df.select_dtypes(include=[\"int64\",\"float64\"]).columns.tolist()"
   ]
  },
  {
   "cell_type": "code",
   "execution_count": 6,
   "id": "6cc6bd31",
   "metadata": {},
   "outputs": [],
   "source": [
    "num_col_names.remove(\"is_fraud\")"
   ]
  },
  {
   "cell_type": "code",
   "execution_count": 7,
   "id": "e8ba3ee1",
   "metadata": {},
   "outputs": [],
   "source": [
    "from pytorch_tabular.config import (\n",
    "    DataConfig,\n",
    "    OptimizerConfig,\n",
    "    TrainerConfig,\n",
    ")\n",
    "from pytorch_tabular import TabularModel"
   ]
  },
  {
   "cell_type": "code",
   "execution_count": 8,
   "id": "c63c563f",
   "metadata": {},
   "outputs": [],
   "source": [
    "data_config = DataConfig(\n",
    "    target=[\"is_fraud\"],\n",
    "    continuous_cols=num_col_names,\n",
    "    categorical_cols=cat_col_names\n",
    ")\n",
    "optimiser_config=OptimizerConfig()\n",
    "\n",
    "trainer_config = TrainerConfig(\n",
    "    batch_size=1024,  # Batch size for training\n",
    "    max_epochs=100,  # Maximum number of epochs\n",
    ")"
   ]
  },
  {
   "cell_type": "code",
   "execution_count": 9,
   "id": "378fa3c9",
   "metadata": {},
   "outputs": [],
   "source": [
    "from sklearn.model_selection import train_test_split\n",
    "train,test=train_test_split(df,random_state=42,test_size=0.2)"
   ]
  },
  {
   "cell_type": "code",
   "execution_count": 10,
   "id": "93842a8e",
   "metadata": {},
   "outputs": [
    {
     "data": {
      "application/vnd.jupyter.widget-view+json": {
       "model_id": "d6c2ef15c90d4db5ab7d21baa4f925f8",
       "version_major": 2,
       "version_minor": 0
      },
      "text/plain": [
       "Output()"
      ]
     },
     "metadata": {},
     "output_type": "display_data"
    },
    {
     "data": {
      "text/html": [
       "<pre style=\"white-space:pre;overflow-x:auto;line-height:normal;font-family:Menlo,'DejaVu Sans Mono',consolas,'Courier New',monospace\"><span style=\"color: #008080; text-decoration-color: #008080; font-weight: bold\">2024</span>-<span style=\"color: #008080; text-decoration-color: #008080; font-weight: bold\">07</span>-<span style=\"color: #008080; text-decoration-color: #008080; font-weight: bold\">18</span> <span style=\"color: #00ff00; text-decoration-color: #00ff00; font-weight: bold\">10:43:14</span>,<span style=\"color: #008080; text-decoration-color: #008080; font-weight: bold\">480</span> - <span style=\"font-weight: bold\">{</span>pytorch_tabular:<span style=\"color: #008080; text-decoration-color: #008080; font-weight: bold\">329</span><span style=\"font-weight: bold\">}</span> - INFO - Training CategoryEmbeddingModel                           \n",
       "</pre>\n"
      ],
      "text/plain": [
       "\u001b[1;36m2024\u001b[0m-\u001b[1;36m07\u001b[0m-\u001b[1;36m18\u001b[0m \u001b[1;92m10:43:14\u001b[0m,\u001b[1;36m480\u001b[0m - \u001b[1m{\u001b[0mpytorch_tabular:\u001b[1;36m329\u001b[0m\u001b[1m}\u001b[0m - INFO - Training CategoryEmbeddingModel                           \n"
      ]
     },
     "metadata": {},
     "output_type": "display_data"
    },
    {
     "data": {
      "text/html": [
       "<pre style=\"white-space:pre;overflow-x:auto;line-height:normal;font-family:Menlo,'DejaVu Sans Mono',consolas,'Courier New',monospace\"><span style=\"color: #008080; text-decoration-color: #008080; font-weight: bold\">2024</span>-<span style=\"color: #008080; text-decoration-color: #008080; font-weight: bold\">07</span>-<span style=\"color: #008080; text-decoration-color: #008080; font-weight: bold\">18</span> <span style=\"color: #00ff00; text-decoration-color: #00ff00; font-weight: bold\">10:43:44</span>,<span style=\"color: #008080; text-decoration-color: #008080; font-weight: bold\">328</span> - <span style=\"font-weight: bold\">{</span>pytorch_tabular:<span style=\"color: #008080; text-decoration-color: #008080; font-weight: bold\">368</span><span style=\"font-weight: bold\">}</span> - INFO - Finished Training CategoryEmbeddingModel                  \n",
       "</pre>\n"
      ],
      "text/plain": [
       "\u001b[1;36m2024\u001b[0m-\u001b[1;36m07\u001b[0m-\u001b[1;36m18\u001b[0m \u001b[1;92m10:43:44\u001b[0m,\u001b[1;36m328\u001b[0m - \u001b[1m{\u001b[0mpytorch_tabular:\u001b[1;36m368\u001b[0m\u001b[1m}\u001b[0m - INFO - Finished Training CategoryEmbeddingModel                  \n"
      ]
     },
     "metadata": {},
     "output_type": "display_data"
    },
    {
     "data": {
      "text/html": [
       "<pre style=\"white-space:pre;overflow-x:auto;line-height:normal;font-family:Menlo,'DejaVu Sans Mono',consolas,'Courier New',monospace\"><span style=\"color: #008080; text-decoration-color: #008080; font-weight: bold\">2024</span>-<span style=\"color: #008080; text-decoration-color: #008080; font-weight: bold\">07</span>-<span style=\"color: #008080; text-decoration-color: #008080; font-weight: bold\">18</span> <span style=\"color: #00ff00; text-decoration-color: #00ff00; font-weight: bold\">10:43:44</span>,<span style=\"color: #008080; text-decoration-color: #008080; font-weight: bold\">329</span> - <span style=\"font-weight: bold\">{</span>pytorch_tabular:<span style=\"color: #008080; text-decoration-color: #008080; font-weight: bold\">369</span><span style=\"font-weight: bold\">}</span> - INFO - Results: model: CategoryEmbeddingModel, # Params: <span style=\"color: #008080; text-decoration-color: #008080; font-weight: bold\">438</span> T,  \n",
       "epochs: <span style=\"color: #008080; text-decoration-color: #008080; font-weight: bold\">14</span>, test_loss: <span style=\"color: #008080; text-decoration-color: #008080; font-weight: bold\">0.11002220958471298</span>, test_accuracy: <span style=\"color: #008080; text-decoration-color: #008080; font-weight: bold\">0.9611872434616089</span>, test_recall: <span style=\"color: #008080; text-decoration-color: #008080; font-weight: bold\">0.9608750939369202</span>,    \n",
       "time_taken: <span style=\"color: #008080; text-decoration-color: #008080; font-weight: bold\">29.869801998138428</span>, time_taken_per_epoch: <span style=\"color: #008080; text-decoration-color: #008080; font-weight: bold\">2.133557285581316</span>                                            \n",
       "</pre>\n"
      ],
      "text/plain": [
       "\u001b[1;36m2024\u001b[0m-\u001b[1;36m07\u001b[0m-\u001b[1;36m18\u001b[0m \u001b[1;92m10:43:44\u001b[0m,\u001b[1;36m329\u001b[0m - \u001b[1m{\u001b[0mpytorch_tabular:\u001b[1;36m369\u001b[0m\u001b[1m}\u001b[0m - INFO - Results: model: CategoryEmbeddingModel, # Params: \u001b[1;36m438\u001b[0m T,  \n",
       "epochs: \u001b[1;36m14\u001b[0m, test_loss: \u001b[1;36m0.11002220958471298\u001b[0m, test_accuracy: \u001b[1;36m0.9611872434616089\u001b[0m, test_recall: \u001b[1;36m0.9608750939369202\u001b[0m,    \n",
       "time_taken: \u001b[1;36m29.869801998138428\u001b[0m, time_taken_per_epoch: \u001b[1;36m2.133557285581316\u001b[0m                                            \n"
      ]
     },
     "metadata": {},
     "output_type": "display_data"
    },
    {
     "data": {
      "text/html": [
       "<pre style=\"white-space:pre;overflow-x:auto;line-height:normal;font-family:Menlo,'DejaVu Sans Mono',consolas,'Courier New',monospace\"><span style=\"color: #008080; text-decoration-color: #008080; font-weight: bold\">2024</span>-<span style=\"color: #008080; text-decoration-color: #008080; font-weight: bold\">07</span>-<span style=\"color: #008080; text-decoration-color: #008080; font-weight: bold\">18</span> <span style=\"color: #00ff00; text-decoration-color: #00ff00; font-weight: bold\">10:43:44</span>,<span style=\"color: #008080; text-decoration-color: #008080; font-weight: bold\">375</span> - <span style=\"font-weight: bold\">{</span>pytorch_tabular:<span style=\"color: #008080; text-decoration-color: #008080; font-weight: bold\">329</span><span style=\"font-weight: bold\">}</span> - INFO - Training CategoryEmbeddingModel                           \n",
       "</pre>\n"
      ],
      "text/plain": [
       "\u001b[1;36m2024\u001b[0m-\u001b[1;36m07\u001b[0m-\u001b[1;36m18\u001b[0m \u001b[1;92m10:43:44\u001b[0m,\u001b[1;36m375\u001b[0m - \u001b[1m{\u001b[0mpytorch_tabular:\u001b[1;36m329\u001b[0m\u001b[1m}\u001b[0m - INFO - Training CategoryEmbeddingModel                           \n"
      ]
     },
     "metadata": {},
     "output_type": "display_data"
    },
    {
     "data": {
      "text/html": [
       "<pre style=\"white-space:pre;overflow-x:auto;line-height:normal;font-family:Menlo,'DejaVu Sans Mono',consolas,'Courier New',monospace\"><span style=\"color: #008080; text-decoration-color: #008080; font-weight: bold\">2024</span>-<span style=\"color: #008080; text-decoration-color: #008080; font-weight: bold\">07</span>-<span style=\"color: #008080; text-decoration-color: #008080; font-weight: bold\">18</span> <span style=\"color: #00ff00; text-decoration-color: #00ff00; font-weight: bold\">10:43:50</span>,<span style=\"color: #008080; text-decoration-color: #008080; font-weight: bold\">987</span> - <span style=\"font-weight: bold\">{</span>pytorch_tabular:<span style=\"color: #008080; text-decoration-color: #008080; font-weight: bold\">368</span><span style=\"font-weight: bold\">}</span> - INFO - Finished Training CategoryEmbeddingModel                  \n",
       "</pre>\n"
      ],
      "text/plain": [
       "\u001b[1;36m2024\u001b[0m-\u001b[1;36m07\u001b[0m-\u001b[1;36m18\u001b[0m \u001b[1;92m10:43:50\u001b[0m,\u001b[1;36m987\u001b[0m - \u001b[1m{\u001b[0mpytorch_tabular:\u001b[1;36m368\u001b[0m\u001b[1m}\u001b[0m - INFO - Finished Training CategoryEmbeddingModel                  \n"
      ]
     },
     "metadata": {},
     "output_type": "display_data"
    },
    {
     "data": {
      "text/html": [
       "<pre style=\"white-space:pre;overflow-x:auto;line-height:normal;font-family:Menlo,'DejaVu Sans Mono',consolas,'Courier New',monospace\"><span style=\"color: #008080; text-decoration-color: #008080; font-weight: bold\">2024</span>-<span style=\"color: #008080; text-decoration-color: #008080; font-weight: bold\">07</span>-<span style=\"color: #008080; text-decoration-color: #008080; font-weight: bold\">18</span> <span style=\"color: #00ff00; text-decoration-color: #00ff00; font-weight: bold\">10:43:50</span>,<span style=\"color: #008080; text-decoration-color: #008080; font-weight: bold\">988</span> - <span style=\"font-weight: bold\">{</span>pytorch_tabular:<span style=\"color: #008080; text-decoration-color: #008080; font-weight: bold\">369</span><span style=\"font-weight: bold\">}</span> - INFO - Results: model: CategoryEmbeddingModel, # Params: <span style=\"color: #008080; text-decoration-color: #008080; font-weight: bold\">590</span> T,  \n",
       "epochs: <span style=\"color: #008080; text-decoration-color: #008080; font-weight: bold\">12</span>, test_loss: <span style=\"color: #008080; text-decoration-color: #008080; font-weight: bold\">0.08624397218227386</span>, test_accuracy: <span style=\"color: #008080; text-decoration-color: #008080; font-weight: bold\">0.9672755002975464</span>, test_recall: <span style=\"color: #008080; text-decoration-color: #008080; font-weight: bold\">0.9675013422966003</span>,    \n",
       "time_taken: <span style=\"color: #008080; text-decoration-color: #008080; font-weight: bold\">6.634397029876709</span>, time_taken_per_epoch: <span style=\"color: #008080; text-decoration-color: #008080; font-weight: bold\">0.5528664191563925</span>                                            \n",
       "</pre>\n"
      ],
      "text/plain": [
       "\u001b[1;36m2024\u001b[0m-\u001b[1;36m07\u001b[0m-\u001b[1;36m18\u001b[0m \u001b[1;92m10:43:50\u001b[0m,\u001b[1;36m988\u001b[0m - \u001b[1m{\u001b[0mpytorch_tabular:\u001b[1;36m369\u001b[0m\u001b[1m}\u001b[0m - INFO - Results: model: CategoryEmbeddingModel, # Params: \u001b[1;36m590\u001b[0m T,  \n",
       "epochs: \u001b[1;36m12\u001b[0m, test_loss: \u001b[1;36m0.08624397218227386\u001b[0m, test_accuracy: \u001b[1;36m0.9672755002975464\u001b[0m, test_recall: \u001b[1;36m0.9675013422966003\u001b[0m,    \n",
       "time_taken: \u001b[1;36m6.634397029876709\u001b[0m, time_taken_per_epoch: \u001b[1;36m0.5528664191563925\u001b[0m                                            \n"
      ]
     },
     "metadata": {},
     "output_type": "display_data"
    },
    {
     "data": {
      "text/html": [
       "<pre style=\"white-space:pre;overflow-x:auto;line-height:normal;font-family:Menlo,'DejaVu Sans Mono',consolas,'Courier New',monospace\"><span style=\"color: #008080; text-decoration-color: #008080; font-weight: bold\">2024</span>-<span style=\"color: #008080; text-decoration-color: #008080; font-weight: bold\">07</span>-<span style=\"color: #008080; text-decoration-color: #008080; font-weight: bold\">18</span> <span style=\"color: #00ff00; text-decoration-color: #00ff00; font-weight: bold\">10:43:51</span>,<span style=\"color: #008080; text-decoration-color: #008080; font-weight: bold\">033</span> - <span style=\"font-weight: bold\">{</span>pytorch_tabular:<span style=\"color: #008080; text-decoration-color: #008080; font-weight: bold\">329</span><span style=\"font-weight: bold\">}</span> - INFO - Training GANDALFModel                                     \n",
       "</pre>\n"
      ],
      "text/plain": [
       "\u001b[1;36m2024\u001b[0m-\u001b[1;36m07\u001b[0m-\u001b[1;36m18\u001b[0m \u001b[1;92m10:43:51\u001b[0m,\u001b[1;36m033\u001b[0m - \u001b[1m{\u001b[0mpytorch_tabular:\u001b[1;36m329\u001b[0m\u001b[1m}\u001b[0m - INFO - Training GANDALFModel                                     \n"
      ]
     },
     "metadata": {},
     "output_type": "display_data"
    },
    {
     "data": {
      "text/html": [
       "<pre style=\"white-space:pre;overflow-x:auto;line-height:normal;font-family:Menlo,'DejaVu Sans Mono',consolas,'Courier New',monospace\"><span style=\"color: #008080; text-decoration-color: #008080; font-weight: bold\">2024</span>-<span style=\"color: #008080; text-decoration-color: #008080; font-weight: bold\">07</span>-<span style=\"color: #008080; text-decoration-color: #008080; font-weight: bold\">18</span> <span style=\"color: #00ff00; text-decoration-color: #00ff00; font-weight: bold\">10:44:05</span>,<span style=\"color: #008080; text-decoration-color: #008080; font-weight: bold\">046</span> - <span style=\"font-weight: bold\">{</span>pytorch_tabular:<span style=\"color: #008080; text-decoration-color: #008080; font-weight: bold\">368</span><span style=\"font-weight: bold\">}</span> - INFO - Finished Training GANDALFModel                            \n",
       "</pre>\n"
      ],
      "text/plain": [
       "\u001b[1;36m2024\u001b[0m-\u001b[1;36m07\u001b[0m-\u001b[1;36m18\u001b[0m \u001b[1;92m10:44:05\u001b[0m,\u001b[1;36m046\u001b[0m - \u001b[1m{\u001b[0mpytorch_tabular:\u001b[1;36m368\u001b[0m\u001b[1m}\u001b[0m - INFO - Finished Training GANDALFModel                            \n"
      ]
     },
     "metadata": {},
     "output_type": "display_data"
    },
    {
     "data": {
      "text/html": [
       "<pre style=\"white-space:pre;overflow-x:auto;line-height:normal;font-family:Menlo,'DejaVu Sans Mono',consolas,'Courier New',monospace\"><span style=\"color: #008080; text-decoration-color: #008080; font-weight: bold\">2024</span>-<span style=\"color: #008080; text-decoration-color: #008080; font-weight: bold\">07</span>-<span style=\"color: #008080; text-decoration-color: #008080; font-weight: bold\">18</span> <span style=\"color: #00ff00; text-decoration-color: #00ff00; font-weight: bold\">10:44:05</span>,<span style=\"color: #008080; text-decoration-color: #008080; font-weight: bold\">047</span> - <span style=\"font-weight: bold\">{</span>pytorch_tabular:<span style=\"color: #008080; text-decoration-color: #008080; font-weight: bold\">369</span><span style=\"font-weight: bold\">}</span> - INFO - Results: model: GANDALFModel, # Params: <span style=\"color: #008080; text-decoration-color: #008080; font-weight: bold\">8</span> M, epochs: <span style=\"color: #008080; text-decoration-color: #008080; font-weight: bold\">7</span>,   \n",
       "test_loss: <span style=\"color: #008080; text-decoration-color: #008080; font-weight: bold\">0.19994030892848969</span>, test_accuracy: <span style=\"color: #008080; text-decoration-color: #008080; font-weight: bold\">0.9505327343940735</span>, test_recall: <span style=\"color: #008080; text-decoration-color: #008080; font-weight: bold\">0.9501332640647888</span>, time_taken:    \n",
       "<span style=\"color: #008080; text-decoration-color: #008080; font-weight: bold\">14.033804893493652</span>, time_taken_per_epoch: <span style=\"color: #008080; text-decoration-color: #008080; font-weight: bold\">2.0048292704990933</span>                                                       \n",
       "</pre>\n"
      ],
      "text/plain": [
       "\u001b[1;36m2024\u001b[0m-\u001b[1;36m07\u001b[0m-\u001b[1;36m18\u001b[0m \u001b[1;92m10:44:05\u001b[0m,\u001b[1;36m047\u001b[0m - \u001b[1m{\u001b[0mpytorch_tabular:\u001b[1;36m369\u001b[0m\u001b[1m}\u001b[0m - INFO - Results: model: GANDALFModel, # Params: \u001b[1;36m8\u001b[0m M, epochs: \u001b[1;36m7\u001b[0m,   \n",
       "test_loss: \u001b[1;36m0.19994030892848969\u001b[0m, test_accuracy: \u001b[1;36m0.9505327343940735\u001b[0m, test_recall: \u001b[1;36m0.9501332640647888\u001b[0m, time_taken:    \n",
       "\u001b[1;36m14.033804893493652\u001b[0m, time_taken_per_epoch: \u001b[1;36m2.0048292704990933\u001b[0m                                                       \n"
      ]
     },
     "metadata": {},
     "output_type": "display_data"
    },
    {
     "data": {
      "text/html": [
       "<pre style=\"white-space:pre;overflow-x:auto;line-height:normal;font-family:Menlo,'DejaVu Sans Mono',consolas,'Courier New',monospace\"><span style=\"color: #008080; text-decoration-color: #008080; font-weight: bold\">2024</span>-<span style=\"color: #008080; text-decoration-color: #008080; font-weight: bold\">07</span>-<span style=\"color: #008080; text-decoration-color: #008080; font-weight: bold\">18</span> <span style=\"color: #00ff00; text-decoration-color: #00ff00; font-weight: bold\">10:44:05</span>,<span style=\"color: #008080; text-decoration-color: #008080; font-weight: bold\">071</span> - <span style=\"font-weight: bold\">{</span>pytorch_tabular:<span style=\"color: #008080; text-decoration-color: #008080; font-weight: bold\">329</span><span style=\"font-weight: bold\">}</span> - INFO - Training GANDALFModel                                     \n",
       "</pre>\n"
      ],
      "text/plain": [
       "\u001b[1;36m2024\u001b[0m-\u001b[1;36m07\u001b[0m-\u001b[1;36m18\u001b[0m \u001b[1;92m10:44:05\u001b[0m,\u001b[1;36m071\u001b[0m - \u001b[1m{\u001b[0mpytorch_tabular:\u001b[1;36m329\u001b[0m\u001b[1m}\u001b[0m - INFO - Training GANDALFModel                                     \n"
      ]
     },
     "metadata": {},
     "output_type": "display_data"
    },
    {
     "data": {
      "text/html": [
       "<pre style=\"white-space:pre;overflow-x:auto;line-height:normal;font-family:Menlo,'DejaVu Sans Mono',consolas,'Courier New',monospace\"><span style=\"color: #008080; text-decoration-color: #008080; font-weight: bold\">2024</span>-<span style=\"color: #008080; text-decoration-color: #008080; font-weight: bold\">07</span>-<span style=\"color: #008080; text-decoration-color: #008080; font-weight: bold\">18</span> <span style=\"color: #00ff00; text-decoration-color: #00ff00; font-weight: bold\">10:44:35</span>,<span style=\"color: #008080; text-decoration-color: #008080; font-weight: bold\">504</span> - <span style=\"font-weight: bold\">{</span>pytorch_tabular:<span style=\"color: #008080; text-decoration-color: #008080; font-weight: bold\">368</span><span style=\"font-weight: bold\">}</span> - INFO - Finished Training GANDALFModel                            \n",
       "</pre>\n"
      ],
      "text/plain": [
       "\u001b[1;36m2024\u001b[0m-\u001b[1;36m07\u001b[0m-\u001b[1;36m18\u001b[0m \u001b[1;92m10:44:35\u001b[0m,\u001b[1;36m504\u001b[0m - \u001b[1m{\u001b[0mpytorch_tabular:\u001b[1;36m368\u001b[0m\u001b[1m}\u001b[0m - INFO - Finished Training GANDALFModel                            \n"
      ]
     },
     "metadata": {},
     "output_type": "display_data"
    },
    {
     "data": {
      "text/html": [
       "<pre style=\"white-space:pre;overflow-x:auto;line-height:normal;font-family:Menlo,'DejaVu Sans Mono',consolas,'Courier New',monospace\"><span style=\"color: #008080; text-decoration-color: #008080; font-weight: bold\">2024</span>-<span style=\"color: #008080; text-decoration-color: #008080; font-weight: bold\">07</span>-<span style=\"color: #008080; text-decoration-color: #008080; font-weight: bold\">18</span> <span style=\"color: #00ff00; text-decoration-color: #00ff00; font-weight: bold\">10:44:35</span>,<span style=\"color: #008080; text-decoration-color: #008080; font-weight: bold\">506</span> - <span style=\"font-weight: bold\">{</span>pytorch_tabular:<span style=\"color: #008080; text-decoration-color: #008080; font-weight: bold\">369</span><span style=\"font-weight: bold\">}</span> - INFO - Results: model: GANDALFModel, # Params: <span style=\"color: #008080; text-decoration-color: #008080; font-weight: bold\">19</span> M, epochs: <span style=\"color: #008080; text-decoration-color: #008080; font-weight: bold\">10</span>, \n",
       "test_loss: <span style=\"color: #008080; text-decoration-color: #008080; font-weight: bold\">0.2319495975971222</span>, test_accuracy: <span style=\"color: #008080; text-decoration-color: #008080; font-weight: bold\">0.9589040875434875</span>, test_recall: <span style=\"color: #008080; text-decoration-color: #008080; font-weight: bold\">0.9587798118591309</span>, time_taken:     \n",
       "<span style=\"color: #008080; text-decoration-color: #008080; font-weight: bold\">30.456507205963135</span>, time_taken_per_epoch: <span style=\"color: #008080; text-decoration-color: #008080; font-weight: bold\">3.0456507205963135</span>                                                       \n",
       "</pre>\n"
      ],
      "text/plain": [
       "\u001b[1;36m2024\u001b[0m-\u001b[1;36m07\u001b[0m-\u001b[1;36m18\u001b[0m \u001b[1;92m10:44:35\u001b[0m,\u001b[1;36m506\u001b[0m - \u001b[1m{\u001b[0mpytorch_tabular:\u001b[1;36m369\u001b[0m\u001b[1m}\u001b[0m - INFO - Results: model: GANDALFModel, # Params: \u001b[1;36m19\u001b[0m M, epochs: \u001b[1;36m10\u001b[0m, \n",
       "test_loss: \u001b[1;36m0.2319495975971222\u001b[0m, test_accuracy: \u001b[1;36m0.9589040875434875\u001b[0m, test_recall: \u001b[1;36m0.9587798118591309\u001b[0m, time_taken:     \n",
       "\u001b[1;36m30.456507205963135\u001b[0m, time_taken_per_epoch: \u001b[1;36m3.0456507205963135\u001b[0m                                                       \n"
      ]
     },
     "metadata": {},
     "output_type": "display_data"
    },
    {
     "data": {
      "text/html": [
       "<pre style=\"white-space:pre;overflow-x:auto;line-height:normal;font-family:Menlo,'DejaVu Sans Mono',consolas,'Courier New',monospace\"><span style=\"color: #008080; text-decoration-color: #008080; font-weight: bold\">2024</span>-<span style=\"color: #008080; text-decoration-color: #008080; font-weight: bold\">07</span>-<span style=\"color: #008080; text-decoration-color: #008080; font-weight: bold\">18</span> <span style=\"color: #00ff00; text-decoration-color: #00ff00; font-weight: bold\">10:44:35</span>,<span style=\"color: #008080; text-decoration-color: #008080; font-weight: bold\">583</span> - <span style=\"font-weight: bold\">{</span>pytorch_tabular:<span style=\"color: #008080; text-decoration-color: #008080; font-weight: bold\">329</span><span style=\"font-weight: bold\">}</span> - INFO - Training TabNetModel                                      \n",
       "</pre>\n"
      ],
      "text/plain": [
       "\u001b[1;36m2024\u001b[0m-\u001b[1;36m07\u001b[0m-\u001b[1;36m18\u001b[0m \u001b[1;92m10:44:35\u001b[0m,\u001b[1;36m583\u001b[0m - \u001b[1m{\u001b[0mpytorch_tabular:\u001b[1;36m329\u001b[0m\u001b[1m}\u001b[0m - INFO - Training TabNetModel                                      \n"
      ]
     },
     "metadata": {},
     "output_type": "display_data"
    },
    {
     "data": {
      "text/html": [
       "<pre style=\"white-space:pre;overflow-x:auto;line-height:normal;font-family:Menlo,'DejaVu Sans Mono',consolas,'Courier New',monospace\"><span style=\"color: #008080; text-decoration-color: #008080; font-weight: bold\">2024</span>-<span style=\"color: #008080; text-decoration-color: #008080; font-weight: bold\">07</span>-<span style=\"color: #008080; text-decoration-color: #008080; font-weight: bold\">18</span> <span style=\"color: #00ff00; text-decoration-color: #00ff00; font-weight: bold\">10:45:04</span>,<span style=\"color: #008080; text-decoration-color: #008080; font-weight: bold\">180</span> - <span style=\"font-weight: bold\">{</span>pytorch_tabular:<span style=\"color: #008080; text-decoration-color: #008080; font-weight: bold\">368</span><span style=\"font-weight: bold\">}</span> - INFO - Finished Training TabNetModel                             \n",
       "</pre>\n"
      ],
      "text/plain": [
       "\u001b[1;36m2024\u001b[0m-\u001b[1;36m07\u001b[0m-\u001b[1;36m18\u001b[0m \u001b[1;92m10:45:04\u001b[0m,\u001b[1;36m180\u001b[0m - \u001b[1m{\u001b[0mpytorch_tabular:\u001b[1;36m368\u001b[0m\u001b[1m}\u001b[0m - INFO - Finished Training TabNetModel                             \n"
      ]
     },
     "metadata": {},
     "output_type": "display_data"
    },
    {
     "data": {
      "text/html": [
       "<pre style=\"white-space:pre;overflow-x:auto;line-height:normal;font-family:Menlo,'DejaVu Sans Mono',consolas,'Courier New',monospace\"><span style=\"color: #008080; text-decoration-color: #008080; font-weight: bold\">2024</span>-<span style=\"color: #008080; text-decoration-color: #008080; font-weight: bold\">07</span>-<span style=\"color: #008080; text-decoration-color: #008080; font-weight: bold\">18</span> <span style=\"color: #00ff00; text-decoration-color: #00ff00; font-weight: bold\">10:45:04</span>,<span style=\"color: #008080; text-decoration-color: #008080; font-weight: bold\">181</span> - <span style=\"font-weight: bold\">{</span>pytorch_tabular:<span style=\"color: #008080; text-decoration-color: #008080; font-weight: bold\">369</span><span style=\"font-weight: bold\">}</span> - INFO - Results: model: TabNetModel, # Params: <span style=\"color: #008080; text-decoration-color: #008080; font-weight: bold\">388</span> T, epochs: <span style=\"color: #008080; text-decoration-color: #008080; font-weight: bold\">5</span>,  \n",
       "test_loss: <span style=\"color: #008080; text-decoration-color: #008080; font-weight: bold\">0.716230034828186</span>, test_accuracy: <span style=\"color: #008080; text-decoration-color: #008080; font-weight: bold\">0.5388127565383911</span>, test_recall: <span style=\"color: #008080; text-decoration-color: #008080; font-weight: bold\">0.539462685585022</span>, time_taken:       \n",
       "<span style=\"color: #008080; text-decoration-color: #008080; font-weight: bold\">28.67279887199402</span>, time_taken_per_epoch: <span style=\"color: #008080; text-decoration-color: #008080; font-weight: bold\">5.734559774398804</span>                                                         \n",
       "</pre>\n"
      ],
      "text/plain": [
       "\u001b[1;36m2024\u001b[0m-\u001b[1;36m07\u001b[0m-\u001b[1;36m18\u001b[0m \u001b[1;92m10:45:04\u001b[0m,\u001b[1;36m181\u001b[0m - \u001b[1m{\u001b[0mpytorch_tabular:\u001b[1;36m369\u001b[0m\u001b[1m}\u001b[0m - INFO - Results: model: TabNetModel, # Params: \u001b[1;36m388\u001b[0m T, epochs: \u001b[1;36m5\u001b[0m,  \n",
       "test_loss: \u001b[1;36m0.716230034828186\u001b[0m, test_accuracy: \u001b[1;36m0.5388127565383911\u001b[0m, test_recall: \u001b[1;36m0.539462685585022\u001b[0m, time_taken:       \n",
       "\u001b[1;36m28.67279887199402\u001b[0m, time_taken_per_epoch: \u001b[1;36m5.734559774398804\u001b[0m                                                         \n"
      ]
     },
     "metadata": {},
     "output_type": "display_data"
    },
    {
     "data": {
      "text/html": [
       "<pre style=\"white-space:pre;overflow-x:auto;line-height:normal;font-family:Menlo,'DejaVu Sans Mono',consolas,'Courier New',monospace\"><span style=\"color: #008080; text-decoration-color: #008080; font-weight: bold\">2024</span>-<span style=\"color: #008080; text-decoration-color: #008080; font-weight: bold\">07</span>-<span style=\"color: #008080; text-decoration-color: #008080; font-weight: bold\">18</span> <span style=\"color: #00ff00; text-decoration-color: #00ff00; font-weight: bold\">10:45:04</span>,<span style=\"color: #008080; text-decoration-color: #008080; font-weight: bold\">204</span> - <span style=\"font-weight: bold\">{</span>pytorch_tabular:<span style=\"color: #008080; text-decoration-color: #008080; font-weight: bold\">329</span><span style=\"font-weight: bold\">}</span> - INFO - Training TabNetModel                                      \n",
       "</pre>\n"
      ],
      "text/plain": [
       "\u001b[1;36m2024\u001b[0m-\u001b[1;36m07\u001b[0m-\u001b[1;36m18\u001b[0m \u001b[1;92m10:45:04\u001b[0m,\u001b[1;36m204\u001b[0m - \u001b[1m{\u001b[0mpytorch_tabular:\u001b[1;36m329\u001b[0m\u001b[1m}\u001b[0m - INFO - Training TabNetModel                                      \n"
      ]
     },
     "metadata": {},
     "output_type": "display_data"
    },
    {
     "data": {
      "text/html": [
       "<pre style=\"white-space:pre;overflow-x:auto;line-height:normal;font-family:Menlo,'DejaVu Sans Mono',consolas,'Courier New',monospace\"><span style=\"color: #008080; text-decoration-color: #008080; font-weight: bold\">2024</span>-<span style=\"color: #008080; text-decoration-color: #008080; font-weight: bold\">07</span>-<span style=\"color: #008080; text-decoration-color: #008080; font-weight: bold\">18</span> <span style=\"color: #00ff00; text-decoration-color: #00ff00; font-weight: bold\">10:45:25</span>,<span style=\"color: #008080; text-decoration-color: #008080; font-weight: bold\">558</span> - <span style=\"font-weight: bold\">{</span>pytorch_tabular:<span style=\"color: #008080; text-decoration-color: #008080; font-weight: bold\">368</span><span style=\"font-weight: bold\">}</span> - INFO - Finished Training TabNetModel                             \n",
       "</pre>\n"
      ],
      "text/plain": [
       "\u001b[1;36m2024\u001b[0m-\u001b[1;36m07\u001b[0m-\u001b[1;36m18\u001b[0m \u001b[1;92m10:45:25\u001b[0m,\u001b[1;36m558\u001b[0m - \u001b[1m{\u001b[0mpytorch_tabular:\u001b[1;36m368\u001b[0m\u001b[1m}\u001b[0m - INFO - Finished Training TabNetModel                             \n"
      ]
     },
     "metadata": {},
     "output_type": "display_data"
    },
    {
     "data": {
      "text/html": [
       "<pre style=\"white-space:pre;overflow-x:auto;line-height:normal;font-family:Menlo,'DejaVu Sans Mono',consolas,'Courier New',monospace\"><span style=\"color: #008080; text-decoration-color: #008080; font-weight: bold\">2024</span>-<span style=\"color: #008080; text-decoration-color: #008080; font-weight: bold\">07</span>-<span style=\"color: #008080; text-decoration-color: #008080; font-weight: bold\">18</span> <span style=\"color: #00ff00; text-decoration-color: #00ff00; font-weight: bold\">10:45:25</span>,<span style=\"color: #008080; text-decoration-color: #008080; font-weight: bold\">560</span> - <span style=\"font-weight: bold\">{</span>pytorch_tabular:<span style=\"color: #008080; text-decoration-color: #008080; font-weight: bold\">369</span><span style=\"font-weight: bold\">}</span> - INFO - Results: model: TabNetModel, # Params: <span style=\"color: #008080; text-decoration-color: #008080; font-weight: bold\">470</span> T, epochs: <span style=\"color: #008080; text-decoration-color: #008080; font-weight: bold\">4</span>,  \n",
       "test_loss: <span style=\"color: #008080; text-decoration-color: #008080; font-weight: bold\">0.7622243165969849</span>, test_accuracy: <span style=\"color: #008080; text-decoration-color: #008080; font-weight: bold\">0.5182648301124573</span>, test_recall: <span style=\"color: #008080; text-decoration-color: #008080; font-weight: bold\">0.5153256058692932</span>, time_taken:     \n",
       "<span style=\"color: #008080; text-decoration-color: #008080; font-weight: bold\">21.375666856765747</span>, time_taken_per_epoch: <span style=\"color: #008080; text-decoration-color: #008080; font-weight: bold\">5.343916714191437</span>                                                        \n",
       "</pre>\n"
      ],
      "text/plain": [
       "\u001b[1;36m2024\u001b[0m-\u001b[1;36m07\u001b[0m-\u001b[1;36m18\u001b[0m \u001b[1;92m10:45:25\u001b[0m,\u001b[1;36m560\u001b[0m - \u001b[1m{\u001b[0mpytorch_tabular:\u001b[1;36m369\u001b[0m\u001b[1m}\u001b[0m - INFO - Results: model: TabNetModel, # Params: \u001b[1;36m470\u001b[0m T, epochs: \u001b[1;36m4\u001b[0m,  \n",
       "test_loss: \u001b[1;36m0.7622243165969849\u001b[0m, test_accuracy: \u001b[1;36m0.5182648301124573\u001b[0m, test_recall: \u001b[1;36m0.5153256058692932\u001b[0m, time_taken:     \n",
       "\u001b[1;36m21.375666856765747\u001b[0m, time_taken_per_epoch: \u001b[1;36m5.343916714191437\u001b[0m                                                        \n"
      ]
     },
     "metadata": {},
     "output_type": "display_data"
    },
    {
     "data": {
      "text/html": [
       "<pre style=\"white-space:pre;overflow-x:auto;line-height:normal;font-family:Menlo,'DejaVu Sans Mono',consolas,'Courier New',monospace\"><span style=\"color: #008080; text-decoration-color: #008080; font-weight: bold\">2024</span>-<span style=\"color: #008080; text-decoration-color: #008080; font-weight: bold\">07</span>-<span style=\"color: #008080; text-decoration-color: #008080; font-weight: bold\">18</span> <span style=\"color: #00ff00; text-decoration-color: #00ff00; font-weight: bold\">10:45:25</span>,<span style=\"color: #008080; text-decoration-color: #008080; font-weight: bold\">589</span> - <span style=\"font-weight: bold\">{</span>pytorch_tabular:<span style=\"color: #008080; text-decoration-color: #008080; font-weight: bold\">329</span><span style=\"font-weight: bold\">}</span> - INFO - Training FTTransformerModel                               \n",
       "</pre>\n"
      ],
      "text/plain": [
       "\u001b[1;36m2024\u001b[0m-\u001b[1;36m07\u001b[0m-\u001b[1;36m18\u001b[0m \u001b[1;92m10:45:25\u001b[0m,\u001b[1;36m589\u001b[0m - \u001b[1m{\u001b[0mpytorch_tabular:\u001b[1;36m329\u001b[0m\u001b[1m}\u001b[0m - INFO - Training FTTransformerModel                               \n"
      ]
     },
     "metadata": {},
     "output_type": "display_data"
    },
    {
     "data": {
      "text/html": [
       "<pre style=\"white-space:pre;overflow-x:auto;line-height:normal;font-family:Menlo,'DejaVu Sans Mono',consolas,'Courier New',monospace\"><span style=\"color: #008080; text-decoration-color: #008080; font-weight: bold\">2024</span>-<span style=\"color: #008080; text-decoration-color: #008080; font-weight: bold\">07</span>-<span style=\"color: #008080; text-decoration-color: #008080; font-weight: bold\">18</span> <span style=\"color: #00ff00; text-decoration-color: #00ff00; font-weight: bold\">10:47:12</span>,<span style=\"color: #008080; text-decoration-color: #008080; font-weight: bold\">746</span> - <span style=\"font-weight: bold\">{</span>pytorch_tabular:<span style=\"color: #008080; text-decoration-color: #008080; font-weight: bold\">368</span><span style=\"font-weight: bold\">}</span> - INFO - Finished Training FTTransformerModel                      \n",
       "</pre>\n"
      ],
      "text/plain": [
       "\u001b[1;36m2024\u001b[0m-\u001b[1;36m07\u001b[0m-\u001b[1;36m18\u001b[0m \u001b[1;92m10:47:12\u001b[0m,\u001b[1;36m746\u001b[0m - \u001b[1m{\u001b[0mpytorch_tabular:\u001b[1;36m368\u001b[0m\u001b[1m}\u001b[0m - INFO - Finished Training FTTransformerModel                      \n"
      ]
     },
     "metadata": {},
     "output_type": "display_data"
    },
    {
     "data": {
      "text/html": [
       "<pre style=\"white-space:pre;overflow-x:auto;line-height:normal;font-family:Menlo,'DejaVu Sans Mono',consolas,'Courier New',monospace\"><span style=\"color: #008080; text-decoration-color: #008080; font-weight: bold\">2024</span>-<span style=\"color: #008080; text-decoration-color: #008080; font-weight: bold\">07</span>-<span style=\"color: #008080; text-decoration-color: #008080; font-weight: bold\">18</span> <span style=\"color: #00ff00; text-decoration-color: #00ff00; font-weight: bold\">10:47:12</span>,<span style=\"color: #008080; text-decoration-color: #008080; font-weight: bold\">749</span> - <span style=\"font-weight: bold\">{</span>pytorch_tabular:<span style=\"color: #008080; text-decoration-color: #008080; font-weight: bold\">369</span><span style=\"font-weight: bold\">}</span> - INFO - Results: model: FTTransformerModel, # Params: <span style=\"color: #008080; text-decoration-color: #008080; font-weight: bold\">297</span> T,      \n",
       "epochs: <span style=\"color: #008080; text-decoration-color: #008080; font-weight: bold\">14</span>, test_loss: <span style=\"color: #008080; text-decoration-color: #008080; font-weight: bold\">0.16167977452278137</span>, test_accuracy: <span style=\"color: #008080; text-decoration-color: #008080; font-weight: bold\">0.9474886059761047</span>, test_recall: <span style=\"color: #008080; text-decoration-color: #008080; font-weight: bold\">0.9478395581245422</span>,    \n",
       "time_taken: <span style=\"color: #008080; text-decoration-color: #008080; font-weight: bold\">107.1849479675293</span>, time_taken_per_epoch: <span style=\"color: #008080; text-decoration-color: #008080; font-weight: bold\">7.6560677119663785</span>                                            \n",
       "</pre>\n"
      ],
      "text/plain": [
       "\u001b[1;36m2024\u001b[0m-\u001b[1;36m07\u001b[0m-\u001b[1;36m18\u001b[0m \u001b[1;92m10:47:12\u001b[0m,\u001b[1;36m749\u001b[0m - \u001b[1m{\u001b[0mpytorch_tabular:\u001b[1;36m369\u001b[0m\u001b[1m}\u001b[0m - INFO - Results: model: FTTransformerModel, # Params: \u001b[1;36m297\u001b[0m T,      \n",
       "epochs: \u001b[1;36m14\u001b[0m, test_loss: \u001b[1;36m0.16167977452278137\u001b[0m, test_accuracy: \u001b[1;36m0.9474886059761047\u001b[0m, test_recall: \u001b[1;36m0.9478395581245422\u001b[0m,    \n",
       "time_taken: \u001b[1;36m107.1849479675293\u001b[0m, time_taken_per_epoch: \u001b[1;36m7.6560677119663785\u001b[0m                                            \n"
      ]
     },
     "metadata": {},
     "output_type": "display_data"
    },
    {
     "data": {
      "text/html": [
       "<pre style=\"white-space:pre;overflow-x:auto;line-height:normal;font-family:Menlo,'DejaVu Sans Mono',consolas,'Courier New',monospace\"></pre>\n"
      ],
      "text/plain": []
     },
     "metadata": {},
     "output_type": "display_data"
    },
    {
     "data": {
      "text/html": [
       "<pre style=\"white-space:pre;overflow-x:auto;line-height:normal;font-family:Menlo,'DejaVu Sans Mono',consolas,'Courier New',monospace\">\n",
       "</pre>\n"
      ],
      "text/plain": [
       "\n"
      ]
     },
     "metadata": {},
     "output_type": "display_data"
    },
    {
     "data": {
      "text/html": [
       "<pre style=\"white-space:pre;overflow-x:auto;line-height:normal;font-family:Menlo,'DejaVu Sans Mono',consolas,'Courier New',monospace\"><span style=\"color: #008080; text-decoration-color: #008080; font-weight: bold\">2024</span>-<span style=\"color: #008080; text-decoration-color: #008080; font-weight: bold\">07</span>-<span style=\"color: #008080; text-decoration-color: #008080; font-weight: bold\">18</span> <span style=\"color: #00ff00; text-decoration-color: #00ff00; font-weight: bold\">10:47:12</span>,<span style=\"color: #008080; text-decoration-color: #008080; font-weight: bold\">752</span> - <span style=\"font-weight: bold\">{</span>pytorch_tabular:<span style=\"color: #008080; text-decoration-color: #008080; font-weight: bold\">387</span><span style=\"font-weight: bold\">}</span> - INFO - Model Sweep Finished                                      \n",
       "</pre>\n"
      ],
      "text/plain": [
       "\u001b[1;36m2024\u001b[0m-\u001b[1;36m07\u001b[0m-\u001b[1;36m18\u001b[0m \u001b[1;92m10:47:12\u001b[0m,\u001b[1;36m752\u001b[0m - \u001b[1m{\u001b[0mpytorch_tabular:\u001b[1;36m387\u001b[0m\u001b[1m}\u001b[0m - INFO - Model Sweep Finished                                      \n"
      ]
     },
     "metadata": {},
     "output_type": "display_data"
    },
    {
     "data": {
      "text/html": [
       "<pre style=\"white-space:pre;overflow-x:auto;line-height:normal;font-family:Menlo,'DejaVu Sans Mono',consolas,'Courier New',monospace\"><span style=\"color: #008080; text-decoration-color: #008080; font-weight: bold\">2024</span>-<span style=\"color: #008080; text-decoration-color: #008080; font-weight: bold\">07</span>-<span style=\"color: #008080; text-decoration-color: #008080; font-weight: bold\">18</span> <span style=\"color: #00ff00; text-decoration-color: #00ff00; font-weight: bold\">10:47:12</span>,<span style=\"color: #008080; text-decoration-color: #008080; font-weight: bold\">754</span> - <span style=\"font-weight: bold\">{</span>pytorch_tabular:<span style=\"color: #008080; text-decoration-color: #008080; font-weight: bold\">388</span><span style=\"font-weight: bold\">}</span> - INFO - Best Model: CategoryEmbeddingModel                        \n",
       "</pre>\n"
      ],
      "text/plain": [
       "\u001b[1;36m2024\u001b[0m-\u001b[1;36m07\u001b[0m-\u001b[1;36m18\u001b[0m \u001b[1;92m10:47:12\u001b[0m,\u001b[1;36m754\u001b[0m - \u001b[1m{\u001b[0mpytorch_tabular:\u001b[1;36m388\u001b[0m\u001b[1m}\u001b[0m - INFO - Best Model: CategoryEmbeddingModel                        \n"
      ]
     },
     "metadata": {},
     "output_type": "display_data"
    },
    {
     "name": "stdout",
     "output_type": "stream",
     "text": [
      "CPU times: user 2min 46s, sys: 1min 19s, total: 4min 5s\n",
      "Wall time: 3min 58s\n"
     ]
    }
   ],
   "source": [
    "%%time\n",
    "from pytorch_tabular import model_sweep\n",
    "import warnings\n",
    "\n",
    "# Filtering out the warnings\n",
    "with warnings.catch_warnings():\n",
    "    warnings.simplefilter(\"ignore\")\n",
    "    sweep_df, best_model = model_sweep(\n",
    "        task=\"classification\",  # One of \"classification\", \"regression\"\n",
    "        train=train,\n",
    "        test=test,\n",
    "        data_config=data_config,\n",
    "        optimizer_config=optimiser_config,\n",
    "        trainer_config=trainer_config,\n",
    "        model_list=\"standard\",\n",
    "        metrics=[\"accuracy\", \"recall\"],\n",
    "        metrics_params=[{}, {\"average\": \"macro\"}],\n",
    "        metrics_prob_input=[False, True],\n",
    "        rank_metric=(\"accuracy\", \"higher_is_better\"),\n",
    "        progress_bar=True,\n",
    "        verbose=True,\n",
    "        suppress_lightning_logger=True,\n",
    "    )"
   ]
  },
  {
   "cell_type": "code",
   "execution_count": 11,
   "id": "997d8bdc",
   "metadata": {},
   "outputs": [
    {
     "data": {
      "text/html": [
       "<div>\n",
       "<style scoped>\n",
       "    .dataframe tbody tr th:only-of-type {\n",
       "        vertical-align: middle;\n",
       "    }\n",
       "\n",
       "    .dataframe tbody tr th {\n",
       "        vertical-align: top;\n",
       "    }\n",
       "\n",
       "    .dataframe thead th {\n",
       "        text-align: right;\n",
       "    }\n",
       "</style>\n",
       "<table border=\"1\" class=\"dataframe\">\n",
       "  <thead>\n",
       "    <tr style=\"text-align: right;\">\n",
       "      <th></th>\n",
       "      <th>model</th>\n",
       "      <th># Params</th>\n",
       "      <th>epochs</th>\n",
       "      <th>test_loss</th>\n",
       "      <th>test_accuracy</th>\n",
       "      <th>test_recall</th>\n",
       "      <th>time_taken</th>\n",
       "      <th>time_taken_per_epoch</th>\n",
       "      <th>params</th>\n",
       "    </tr>\n",
       "  </thead>\n",
       "  <tbody>\n",
       "    <tr>\n",
       "      <th>1</th>\n",
       "      <td>CategoryEmbeddingModel</td>\n",
       "      <td>590 T</td>\n",
       "      <td>12</td>\n",
       "      <td>0.086244</td>\n",
       "      <td>0.967276</td>\n",
       "      <td>0.967501</td>\n",
       "      <td>6.634397</td>\n",
       "      <td>0.552866</td>\n",
       "      <td>{'task': 'classification', 'head': 'LinearHead...</td>\n",
       "    </tr>\n",
       "    <tr>\n",
       "      <th>0</th>\n",
       "      <td>CategoryEmbeddingModel</td>\n",
       "      <td>438 T</td>\n",
       "      <td>14</td>\n",
       "      <td>0.110022</td>\n",
       "      <td>0.961187</td>\n",
       "      <td>0.960875</td>\n",
       "      <td>29.869802</td>\n",
       "      <td>2.133557</td>\n",
       "      <td>{'task': 'classification', 'head': 'LinearHead...</td>\n",
       "    </tr>\n",
       "    <tr>\n",
       "      <th>3</th>\n",
       "      <td>GANDALFModel</td>\n",
       "      <td>19 M</td>\n",
       "      <td>10</td>\n",
       "      <td>0.231950</td>\n",
       "      <td>0.958904</td>\n",
       "      <td>0.958780</td>\n",
       "      <td>30.456507</td>\n",
       "      <td>3.045651</td>\n",
       "      <td>{'task': 'classification', 'head': 'LinearHead...</td>\n",
       "    </tr>\n",
       "    <tr>\n",
       "      <th>2</th>\n",
       "      <td>GANDALFModel</td>\n",
       "      <td>8 M</td>\n",
       "      <td>7</td>\n",
       "      <td>0.199940</td>\n",
       "      <td>0.950533</td>\n",
       "      <td>0.950133</td>\n",
       "      <td>14.033805</td>\n",
       "      <td>2.004829</td>\n",
       "      <td>{'task': 'classification', 'head': 'LinearHead...</td>\n",
       "    </tr>\n",
       "    <tr>\n",
       "      <th>6</th>\n",
       "      <td>FTTransformerModel</td>\n",
       "      <td>297 T</td>\n",
       "      <td>14</td>\n",
       "      <td>0.161680</td>\n",
       "      <td>0.947489</td>\n",
       "      <td>0.947840</td>\n",
       "      <td>107.184948</td>\n",
       "      <td>7.656068</td>\n",
       "      <td>{'task': 'classification', 'head': 'LinearHead...</td>\n",
       "    </tr>\n",
       "    <tr>\n",
       "      <th>4</th>\n",
       "      <td>TabNetModel</td>\n",
       "      <td>388 T</td>\n",
       "      <td>5</td>\n",
       "      <td>0.716230</td>\n",
       "      <td>0.538813</td>\n",
       "      <td>0.539463</td>\n",
       "      <td>28.672799</td>\n",
       "      <td>5.734560</td>\n",
       "      <td>{'task': 'classification', 'head': 'LinearHead...</td>\n",
       "    </tr>\n",
       "    <tr>\n",
       "      <th>5</th>\n",
       "      <td>TabNetModel</td>\n",
       "      <td>470 T</td>\n",
       "      <td>4</td>\n",
       "      <td>0.762224</td>\n",
       "      <td>0.518265</td>\n",
       "      <td>0.515326</td>\n",
       "      <td>21.375667</td>\n",
       "      <td>5.343917</td>\n",
       "      <td>{'task': 'classification', 'head': 'LinearHead...</td>\n",
       "    </tr>\n",
       "  </tbody>\n",
       "</table>\n",
       "</div>"
      ],
      "text/plain": [
       "                    model # Params  epochs  test_loss  test_accuracy  \\\n",
       "1  CategoryEmbeddingModel    590 T      12   0.086244       0.967276   \n",
       "0  CategoryEmbeddingModel    438 T      14   0.110022       0.961187   \n",
       "3            GANDALFModel     19 M      10   0.231950       0.958904   \n",
       "2            GANDALFModel      8 M       7   0.199940       0.950533   \n",
       "6      FTTransformerModel    297 T      14   0.161680       0.947489   \n",
       "4             TabNetModel    388 T       5   0.716230       0.538813   \n",
       "5             TabNetModel    470 T       4   0.762224       0.518265   \n",
       "\n",
       "   test_recall  time_taken  time_taken_per_epoch  \\\n",
       "1     0.967501    6.634397              0.552866   \n",
       "0     0.960875   29.869802              2.133557   \n",
       "3     0.958780   30.456507              3.045651   \n",
       "2     0.950133   14.033805              2.004829   \n",
       "6     0.947840  107.184948              7.656068   \n",
       "4     0.539463   28.672799              5.734560   \n",
       "5     0.515326   21.375667              5.343917   \n",
       "\n",
       "                                              params  \n",
       "1  {'task': 'classification', 'head': 'LinearHead...  \n",
       "0  {'task': 'classification', 'head': 'LinearHead...  \n",
       "3  {'task': 'classification', 'head': 'LinearHead...  \n",
       "2  {'task': 'classification', 'head': 'LinearHead...  \n",
       "6  {'task': 'classification', 'head': 'LinearHead...  \n",
       "4  {'task': 'classification', 'head': 'LinearHead...  \n",
       "5  {'task': 'classification', 'head': 'LinearHead...  "
      ]
     },
     "execution_count": 11,
     "metadata": {},
     "output_type": "execute_result"
    }
   ],
   "source": [
    "sweep_df"
   ]
  },
  {
   "cell_type": "code",
   "execution_count": 12,
   "id": "3ee7a406",
   "metadata": {},
   "outputs": [
    {
     "data": {
      "text/html": [
       "<style type=\"text/css\">\n",
       "#T_cc000_row0_col2, #T_cc000_row0_col3, #T_cc000_row0_col4, #T_cc000_row0_col5 {\n",
       "  background-color: #006837;\n",
       "  color: #f1f1f1;\n",
       "}\n",
       "#T_cc000_row1_col2, #T_cc000_row3_col3, #T_cc000_row3_col4 {\n",
       "  background-color: #097940;\n",
       "  color: #f1f1f1;\n",
       "}\n",
       "#T_cc000_row1_col3, #T_cc000_row1_col4 {\n",
       "  background-color: #036e3a;\n",
       "  color: #f1f1f1;\n",
       "}\n",
       "#T_cc000_row1_col5 {\n",
       "  background-color: #73c264;\n",
       "  color: #000000;\n",
       "}\n",
       "#T_cc000_row2_col2 {\n",
       "  background-color: #70c164;\n",
       "  color: #000000;\n",
       "}\n",
       "#T_cc000_row2_col3, #T_cc000_row2_col4 {\n",
       "  background-color: #04703b;\n",
       "  color: #f1f1f1;\n",
       "}\n",
       "#T_cc000_row2_col5 {\n",
       "  background-color: #bfe47a;\n",
       "  color: #000000;\n",
       "}\n",
       "#T_cc000_row3_col2 {\n",
       "  background-color: #4eb15d;\n",
       "  color: #f1f1f1;\n",
       "}\n",
       "#T_cc000_row3_col5 {\n",
       "  background-color: #69be63;\n",
       "  color: #f1f1f1;\n",
       "}\n",
       "#T_cc000_row4_col2 {\n",
       "  background-color: #219c52;\n",
       "  color: #f1f1f1;\n",
       "}\n",
       "#T_cc000_row4_col3, #T_cc000_row4_col4 {\n",
       "  background-color: #0b7d42;\n",
       "  color: #f1f1f1;\n",
       "}\n",
       "#T_cc000_row4_col5, #T_cc000_row6_col2, #T_cc000_row6_col3, #T_cc000_row6_col4 {\n",
       "  background-color: #a50026;\n",
       "  color: #f1f1f1;\n",
       "}\n",
       "#T_cc000_row5_col2 {\n",
       "  background-color: #c62027;\n",
       "  color: #f1f1f1;\n",
       "}\n",
       "#T_cc000_row5_col3 {\n",
       "  background-color: #bb1526;\n",
       "  color: #f1f1f1;\n",
       "}\n",
       "#T_cc000_row5_col4 {\n",
       "  background-color: #be1827;\n",
       "  color: #f1f1f1;\n",
       "}\n",
       "#T_cc000_row5_col5 {\n",
       "  background-color: #fa9b58;\n",
       "  color: #000000;\n",
       "}\n",
       "#T_cc000_row6_col5 {\n",
       "  background-color: #fdbb6c;\n",
       "  color: #000000;\n",
       "}\n",
       "</style>\n",
       "<table id=\"T_cc000\">\n",
       "  <thead>\n",
       "    <tr>\n",
       "      <th class=\"blank level0\" >&nbsp;</th>\n",
       "      <th id=\"T_cc000_level0_col0\" class=\"col_heading level0 col0\" >model</th>\n",
       "      <th id=\"T_cc000_level0_col1\" class=\"col_heading level0 col1\" ># Params</th>\n",
       "      <th id=\"T_cc000_level0_col2\" class=\"col_heading level0 col2\" >test_loss</th>\n",
       "      <th id=\"T_cc000_level0_col3\" class=\"col_heading level0 col3\" >test_accuracy</th>\n",
       "      <th id=\"T_cc000_level0_col4\" class=\"col_heading level0 col4\" >test_recall</th>\n",
       "      <th id=\"T_cc000_level0_col5\" class=\"col_heading level0 col5\" >time_taken_per_epoch</th>\n",
       "    </tr>\n",
       "  </thead>\n",
       "  <tbody>\n",
       "    <tr>\n",
       "      <th id=\"T_cc000_level0_row0\" class=\"row_heading level0 row0\" >1</th>\n",
       "      <td id=\"T_cc000_row0_col0\" class=\"data row0 col0\" >CategoryEmbeddingModel</td>\n",
       "      <td id=\"T_cc000_row0_col1\" class=\"data row0 col1\" >590 T</td>\n",
       "      <td id=\"T_cc000_row0_col2\" class=\"data row0 col2\" >0.086244</td>\n",
       "      <td id=\"T_cc000_row0_col3\" class=\"data row0 col3\" >0.967276</td>\n",
       "      <td id=\"T_cc000_row0_col4\" class=\"data row0 col4\" >0.967501</td>\n",
       "      <td id=\"T_cc000_row0_col5\" class=\"data row0 col5\" >0.552866</td>\n",
       "    </tr>\n",
       "    <tr>\n",
       "      <th id=\"T_cc000_level0_row1\" class=\"row_heading level0 row1\" >0</th>\n",
       "      <td id=\"T_cc000_row1_col0\" class=\"data row1 col0\" >CategoryEmbeddingModel</td>\n",
       "      <td id=\"T_cc000_row1_col1\" class=\"data row1 col1\" >438 T</td>\n",
       "      <td id=\"T_cc000_row1_col2\" class=\"data row1 col2\" >0.110022</td>\n",
       "      <td id=\"T_cc000_row1_col3\" class=\"data row1 col3\" >0.961187</td>\n",
       "      <td id=\"T_cc000_row1_col4\" class=\"data row1 col4\" >0.960875</td>\n",
       "      <td id=\"T_cc000_row1_col5\" class=\"data row1 col5\" >2.133557</td>\n",
       "    </tr>\n",
       "    <tr>\n",
       "      <th id=\"T_cc000_level0_row2\" class=\"row_heading level0 row2\" >3</th>\n",
       "      <td id=\"T_cc000_row2_col0\" class=\"data row2 col0\" >GANDALFModel</td>\n",
       "      <td id=\"T_cc000_row2_col1\" class=\"data row2 col1\" >19 M</td>\n",
       "      <td id=\"T_cc000_row2_col2\" class=\"data row2 col2\" >0.231950</td>\n",
       "      <td id=\"T_cc000_row2_col3\" class=\"data row2 col3\" >0.958904</td>\n",
       "      <td id=\"T_cc000_row2_col4\" class=\"data row2 col4\" >0.958780</td>\n",
       "      <td id=\"T_cc000_row2_col5\" class=\"data row2 col5\" >3.045651</td>\n",
       "    </tr>\n",
       "    <tr>\n",
       "      <th id=\"T_cc000_level0_row3\" class=\"row_heading level0 row3\" >2</th>\n",
       "      <td id=\"T_cc000_row3_col0\" class=\"data row3 col0\" >GANDALFModel</td>\n",
       "      <td id=\"T_cc000_row3_col1\" class=\"data row3 col1\" >8 M</td>\n",
       "      <td id=\"T_cc000_row3_col2\" class=\"data row3 col2\" >0.199940</td>\n",
       "      <td id=\"T_cc000_row3_col3\" class=\"data row3 col3\" >0.950533</td>\n",
       "      <td id=\"T_cc000_row3_col4\" class=\"data row3 col4\" >0.950133</td>\n",
       "      <td id=\"T_cc000_row3_col5\" class=\"data row3 col5\" >2.004829</td>\n",
       "    </tr>\n",
       "    <tr>\n",
       "      <th id=\"T_cc000_level0_row4\" class=\"row_heading level0 row4\" >6</th>\n",
       "      <td id=\"T_cc000_row4_col0\" class=\"data row4 col0\" >FTTransformerModel</td>\n",
       "      <td id=\"T_cc000_row4_col1\" class=\"data row4 col1\" >297 T</td>\n",
       "      <td id=\"T_cc000_row4_col2\" class=\"data row4 col2\" >0.161680</td>\n",
       "      <td id=\"T_cc000_row4_col3\" class=\"data row4 col3\" >0.947489</td>\n",
       "      <td id=\"T_cc000_row4_col4\" class=\"data row4 col4\" >0.947840</td>\n",
       "      <td id=\"T_cc000_row4_col5\" class=\"data row4 col5\" >7.656068</td>\n",
       "    </tr>\n",
       "    <tr>\n",
       "      <th id=\"T_cc000_level0_row5\" class=\"row_heading level0 row5\" >4</th>\n",
       "      <td id=\"T_cc000_row5_col0\" class=\"data row5 col0\" >TabNetModel</td>\n",
       "      <td id=\"T_cc000_row5_col1\" class=\"data row5 col1\" >388 T</td>\n",
       "      <td id=\"T_cc000_row5_col2\" class=\"data row5 col2\" >0.716230</td>\n",
       "      <td id=\"T_cc000_row5_col3\" class=\"data row5 col3\" >0.538813</td>\n",
       "      <td id=\"T_cc000_row5_col4\" class=\"data row5 col4\" >0.539463</td>\n",
       "      <td id=\"T_cc000_row5_col5\" class=\"data row5 col5\" >5.734560</td>\n",
       "    </tr>\n",
       "    <tr>\n",
       "      <th id=\"T_cc000_level0_row6\" class=\"row_heading level0 row6\" >5</th>\n",
       "      <td id=\"T_cc000_row6_col0\" class=\"data row6 col0\" >TabNetModel</td>\n",
       "      <td id=\"T_cc000_row6_col1\" class=\"data row6 col1\" >470 T</td>\n",
       "      <td id=\"T_cc000_row6_col2\" class=\"data row6 col2\" >0.762224</td>\n",
       "      <td id=\"T_cc000_row6_col3\" class=\"data row6 col3\" >0.518265</td>\n",
       "      <td id=\"T_cc000_row6_col4\" class=\"data row6 col4\" >0.515326</td>\n",
       "      <td id=\"T_cc000_row6_col5\" class=\"data row6 col5\" >5.343917</td>\n",
       "    </tr>\n",
       "  </tbody>\n",
       "</table>\n"
      ],
      "text/plain": [
       "<pandas.io.formats.style.Styler at 0x179bbe910>"
      ]
     },
     "execution_count": 12,
     "metadata": {},
     "output_type": "execute_result"
    }
   ],
   "source": [
    "sweep_df.drop(columns=[\"params\", \"time_taken\", \"epochs\"]).style.background_gradient(\n",
    "    subset=[\"test_accuracy\", \"test_recall\"], cmap=\"RdYlGn\"\n",
    ").background_gradient(subset=[\"time_taken_per_epoch\", \"test_loss\"], cmap=\"RdYlGn_r\")"
   ]
  },
  {
   "cell_type": "code",
   "execution_count": 10,
   "id": "fb5213f1",
   "metadata": {},
   "outputs": [],
   "source": [
    "from rich import print\n",
    "from rich.pretty import pprint"
   ]
  },
  {
   "cell_type": "code",
   "execution_count": 11,
   "id": "c60f1e66",
   "metadata": {},
   "outputs": [],
   "source": [
    "from pytorch_tabular import MODEL_SWEEP_PRESETS"
   ]
  },
  {
   "cell_type": "code",
   "execution_count": 15,
   "id": "6d4f77b2",
   "metadata": {},
   "outputs": [
    {
     "data": {
      "text/html": [
       "<pre style=\"white-space:pre;overflow-x:auto;line-height:normal;font-family:Menlo,'DejaVu Sans Mono',consolas,'Courier New',monospace\"><span style=\"font-weight: bold\">[</span>\n",
       "<span style=\"color: #7fbf7f; text-decoration-color: #7fbf7f\">│   </span><span style=\"color: #008000; text-decoration-color: #008000\">'AutoIntConfig'</span>,\n",
       "<span style=\"color: #7fbf7f; text-decoration-color: #7fbf7f\">│   </span><span style=\"color: #008000; text-decoration-color: #008000\">'CategoryEmbeddingModelConfig'</span>,\n",
       "<span style=\"color: #7fbf7f; text-decoration-color: #7fbf7f\">│   </span><span style=\"color: #008000; text-decoration-color: #008000\">'DANetConfig'</span>,\n",
       "<span style=\"color: #7fbf7f; text-decoration-color: #7fbf7f\">│   </span><span style=\"color: #008000; text-decoration-color: #008000\">'FTTransformerConfig'</span>,\n",
       "<span style=\"color: #7fbf7f; text-decoration-color: #7fbf7f\">│   </span><span style=\"color: #008000; text-decoration-color: #008000\">'GANDALFConfig'</span>,\n",
       "<span style=\"color: #7fbf7f; text-decoration-color: #7fbf7f\">│   </span><span style=\"color: #008000; text-decoration-color: #008000\">'GatedAdditiveTreeEnsembleConfig'</span>,\n",
       "<span style=\"color: #7fbf7f; text-decoration-color: #7fbf7f\">│   </span><span style=\"color: #008000; text-decoration-color: #008000\">'NodeConfig'</span>,\n",
       "<span style=\"color: #7fbf7f; text-decoration-color: #7fbf7f\">│   </span><span style=\"color: #008000; text-decoration-color: #008000\">'TabNetModelConfig'</span>,\n",
       "<span style=\"color: #7fbf7f; text-decoration-color: #7fbf7f\">│   </span><span style=\"color: #008000; text-decoration-color: #008000\">'TabTransformerConfig'</span>\n",
       "<span style=\"font-weight: bold\">]</span>\n",
       "</pre>\n"
      ],
      "text/plain": [
       "\u001b[1m[\u001b[0m\n",
       "\u001b[2;32m│   \u001b[0m\u001b[32m'AutoIntConfig'\u001b[0m,\n",
       "\u001b[2;32m│   \u001b[0m\u001b[32m'CategoryEmbeddingModelConfig'\u001b[0m,\n",
       "\u001b[2;32m│   \u001b[0m\u001b[32m'DANetConfig'\u001b[0m,\n",
       "\u001b[2;32m│   \u001b[0m\u001b[32m'FTTransformerConfig'\u001b[0m,\n",
       "\u001b[2;32m│   \u001b[0m\u001b[32m'GANDALFConfig'\u001b[0m,\n",
       "\u001b[2;32m│   \u001b[0m\u001b[32m'GatedAdditiveTreeEnsembleConfig'\u001b[0m,\n",
       "\u001b[2;32m│   \u001b[0m\u001b[32m'NodeConfig'\u001b[0m,\n",
       "\u001b[2;32m│   \u001b[0m\u001b[32m'TabNetModelConfig'\u001b[0m,\n",
       "\u001b[2;32m│   \u001b[0m\u001b[32m'TabTransformerConfig'\u001b[0m\n",
       "\u001b[1m]\u001b[0m\n"
      ]
     },
     "metadata": {},
     "output_type": "display_data"
    }
   ],
   "source": [
    "pprint(list(MODEL_SWEEP_PRESETS[\"high_memory\"]))"
   ]
  },
  {
   "cell_type": "code",
   "execution_count": 12,
   "id": "5883d544",
   "metadata": {},
   "outputs": [],
   "source": [
    "model_list=[\n",
    "   'AutoIntConfig',\n",
    "   'CategoryEmbeddingModelConfig',\n",
    "   'DANetConfig',\n",
    "   'GANDALFConfig',\n",
    "   'GatedAdditiveTreeEnsembleConfig',\n",
    "   'TabNetModelConfig',\n",
    "   'TabTransformerConfig'\n",
    "]"
   ]
  },
  {
   "cell_type": "code",
   "execution_count": 13,
   "id": "0e5fd0a8",
   "metadata": {},
   "outputs": [],
   "source": [
    "from pytorch_tabular.models import (\n",
    "    AutoIntConfig,\n",
    "    CategoryEmbeddingModelConfig,\n",
    "    DANetConfig,\n",
    "    \n",
    "    GANDALFConfig,\n",
    "    GatedAdditiveTreeEnsembleConfig,\n",
    "    \n",
    "    TabNetModelConfig,\n",
    "    TabTransformerConfig,\n",
    ")"
   ]
  },
  {
   "cell_type": "code",
   "execution_count": 14,
   "id": "c9e66caa",
   "metadata": {
    "scrolled": true
   },
   "outputs": [
    {
     "data": {
      "text/plain": [
       "['AutoIntConfig',\n",
       " 'CategoryEmbeddingModelConfig',\n",
       " 'DANetConfig',\n",
       " 'GANDALFConfig',\n",
       " 'GatedAdditiveTreeEnsembleConfig',\n",
       " 'TabNetModelConfig',\n",
       " 'TabTransformerConfig']"
      ]
     },
     "execution_count": 14,
     "metadata": {},
     "output_type": "execute_result"
    }
   ],
   "source": [
    "model_list"
   ]
  },
  {
   "cell_type": "code",
   "execution_count": 18,
   "id": "91e92a9d",
   "metadata": {
    "scrolled": true
   },
   "outputs": [
    {
     "data": {
      "application/vnd.jupyter.widget-view+json": {
       "model_id": "09c23aea56764e408d1f6a018f9ebfa9",
       "version_major": 2,
       "version_minor": 0
      },
      "text/plain": [
       "Output()"
      ]
     },
     "metadata": {},
     "output_type": "display_data"
    },
    {
     "data": {
      "text/html": [
       "<pre style=\"white-space:pre;overflow-x:auto;line-height:normal;font-family:Menlo,'DejaVu Sans Mono',consolas,'Courier New',monospace\"><span style=\"color: #008080; text-decoration-color: #008080; font-weight: bold\">2024</span>-<span style=\"color: #008080; text-decoration-color: #008080; font-weight: bold\">07</span>-<span style=\"color: #008080; text-decoration-color: #008080; font-weight: bold\">18</span> <span style=\"color: #00ff00; text-decoration-color: #00ff00; font-weight: bold\">12:58:07</span>,<span style=\"color: #008080; text-decoration-color: #008080; font-weight: bold\">725</span> - <span style=\"font-weight: bold\">{</span>pytorch_tabular:<span style=\"color: #008080; text-decoration-color: #008080; font-weight: bold\">329</span><span style=\"font-weight: bold\">}</span> - INFO - Training AutoIntModel                                     \n",
       "</pre>\n"
      ],
      "text/plain": [
       "\u001b[1;36m2024\u001b[0m-\u001b[1;36m07\u001b[0m-\u001b[1;36m18\u001b[0m \u001b[1;92m12:58:07\u001b[0m,\u001b[1;36m725\u001b[0m - \u001b[1m{\u001b[0mpytorch_tabular:\u001b[1;36m329\u001b[0m\u001b[1m}\u001b[0m - INFO - Training AutoIntModel                                     \n"
      ]
     },
     "metadata": {},
     "output_type": "display_data"
    },
    {
     "data": {
      "text/html": [
       "<pre style=\"white-space:pre;overflow-x:auto;line-height:normal;font-family:Menlo,'DejaVu Sans Mono',consolas,'Courier New',monospace\"><span style=\"color: #008080; text-decoration-color: #008080; font-weight: bold\">2024</span>-<span style=\"color: #008080; text-decoration-color: #008080; font-weight: bold\">07</span>-<span style=\"color: #008080; text-decoration-color: #008080; font-weight: bold\">18</span> <span style=\"color: #00ff00; text-decoration-color: #00ff00; font-weight: bold\">12:58:38</span>,<span style=\"color: #008080; text-decoration-color: #008080; font-weight: bold\">389</span> - <span style=\"font-weight: bold\">{</span>pytorch_tabular:<span style=\"color: #008080; text-decoration-color: #008080; font-weight: bold\">368</span><span style=\"font-weight: bold\">}</span> - INFO - Finished Training AutoIntModel                            \n",
       "</pre>\n"
      ],
      "text/plain": [
       "\u001b[1;36m2024\u001b[0m-\u001b[1;36m07\u001b[0m-\u001b[1;36m18\u001b[0m \u001b[1;92m12:58:38\u001b[0m,\u001b[1;36m389\u001b[0m - \u001b[1m{\u001b[0mpytorch_tabular:\u001b[1;36m368\u001b[0m\u001b[1m}\u001b[0m - INFO - Finished Training AutoIntModel                            \n"
      ]
     },
     "metadata": {},
     "output_type": "display_data"
    },
    {
     "data": {
      "text/html": [
       "<pre style=\"white-space:pre;overflow-x:auto;line-height:normal;font-family:Menlo,'DejaVu Sans Mono',consolas,'Courier New',monospace\"><span style=\"color: #008080; text-decoration-color: #008080; font-weight: bold\">2024</span>-<span style=\"color: #008080; text-decoration-color: #008080; font-weight: bold\">07</span>-<span style=\"color: #008080; text-decoration-color: #008080; font-weight: bold\">18</span> <span style=\"color: #00ff00; text-decoration-color: #00ff00; font-weight: bold\">12:58:38</span>,<span style=\"color: #008080; text-decoration-color: #008080; font-weight: bold\">391</span> - <span style=\"font-weight: bold\">{</span>pytorch_tabular:<span style=\"color: #008080; text-decoration-color: #008080; font-weight: bold\">369</span><span style=\"font-weight: bold\">}</span> - INFO - Results: model: AutoIntModel, # Params: <span style=\"color: #008080; text-decoration-color: #008080; font-weight: bold\">108</span> T, epochs: <span style=\"color: #008080; text-decoration-color: #008080; font-weight: bold\">27</span>,\n",
       "test_loss: <span style=\"color: #008080; text-decoration-color: #008080; font-weight: bold\">0.14365410804748535</span>, test_accuracy: <span style=\"color: #008080; text-decoration-color: #008080; font-weight: bold\">0.965753436088562</span>, test_f1_score: <span style=\"color: #008080; text-decoration-color: #008080; font-weight: bold\">0.9657127261161804</span>, time_taken:   \n",
       "<span style=\"color: #008080; text-decoration-color: #008080; font-weight: bold\">30.688654899597168</span>, time_taken_per_epoch: <span style=\"color: #008080; text-decoration-color: #008080; font-weight: bold\">1.1366168481332284</span>                                                       \n",
       "</pre>\n"
      ],
      "text/plain": [
       "\u001b[1;36m2024\u001b[0m-\u001b[1;36m07\u001b[0m-\u001b[1;36m18\u001b[0m \u001b[1;92m12:58:38\u001b[0m,\u001b[1;36m391\u001b[0m - \u001b[1m{\u001b[0mpytorch_tabular:\u001b[1;36m369\u001b[0m\u001b[1m}\u001b[0m - INFO - Results: model: AutoIntModel, # Params: \u001b[1;36m108\u001b[0m T, epochs: \u001b[1;36m27\u001b[0m,\n",
       "test_loss: \u001b[1;36m0.14365410804748535\u001b[0m, test_accuracy: \u001b[1;36m0.965753436088562\u001b[0m, test_f1_score: \u001b[1;36m0.9657127261161804\u001b[0m, time_taken:   \n",
       "\u001b[1;36m30.688654899597168\u001b[0m, time_taken_per_epoch: \u001b[1;36m1.1366168481332284\u001b[0m                                                       \n"
      ]
     },
     "metadata": {},
     "output_type": "display_data"
    },
    {
     "data": {
      "text/html": [
       "<pre style=\"white-space:pre;overflow-x:auto;line-height:normal;font-family:Menlo,'DejaVu Sans Mono',consolas,'Courier New',monospace\"><span style=\"color: #008080; text-decoration-color: #008080; font-weight: bold\">2024</span>-<span style=\"color: #008080; text-decoration-color: #008080; font-weight: bold\">07</span>-<span style=\"color: #008080; text-decoration-color: #008080; font-weight: bold\">18</span> <span style=\"color: #00ff00; text-decoration-color: #00ff00; font-weight: bold\">12:58:38</span>,<span style=\"color: #008080; text-decoration-color: #008080; font-weight: bold\">486</span> - <span style=\"font-weight: bold\">{</span>pytorch_tabular:<span style=\"color: #008080; text-decoration-color: #008080; font-weight: bold\">329</span><span style=\"font-weight: bold\">}</span> - INFO - Training CategoryEmbeddingModel                           \n",
       "</pre>\n"
      ],
      "text/plain": [
       "\u001b[1;36m2024\u001b[0m-\u001b[1;36m07\u001b[0m-\u001b[1;36m18\u001b[0m \u001b[1;92m12:58:38\u001b[0m,\u001b[1;36m486\u001b[0m - \u001b[1m{\u001b[0mpytorch_tabular:\u001b[1;36m329\u001b[0m\u001b[1m}\u001b[0m - INFO - Training CategoryEmbeddingModel                           \n"
      ]
     },
     "metadata": {},
     "output_type": "display_data"
    },
    {
     "data": {
      "text/html": [
       "<pre style=\"white-space:pre;overflow-x:auto;line-height:normal;font-family:Menlo,'DejaVu Sans Mono',consolas,'Courier New',monospace\"><span style=\"color: #008080; text-decoration-color: #008080; font-weight: bold\">2024</span>-<span style=\"color: #008080; text-decoration-color: #008080; font-weight: bold\">07</span>-<span style=\"color: #008080; text-decoration-color: #008080; font-weight: bold\">18</span> <span style=\"color: #00ff00; text-decoration-color: #00ff00; font-weight: bold\">12:58:45</span>,<span style=\"color: #008080; text-decoration-color: #008080; font-weight: bold\">307</span> - <span style=\"font-weight: bold\">{</span>pytorch_tabular:<span style=\"color: #008080; text-decoration-color: #008080; font-weight: bold\">368</span><span style=\"font-weight: bold\">}</span> - INFO - Finished Training CategoryEmbeddingModel                  \n",
       "</pre>\n"
      ],
      "text/plain": [
       "\u001b[1;36m2024\u001b[0m-\u001b[1;36m07\u001b[0m-\u001b[1;36m18\u001b[0m \u001b[1;92m12:58:45\u001b[0m,\u001b[1;36m307\u001b[0m - \u001b[1m{\u001b[0mpytorch_tabular:\u001b[1;36m368\u001b[0m\u001b[1m}\u001b[0m - INFO - Finished Training CategoryEmbeddingModel                  \n"
      ]
     },
     "metadata": {},
     "output_type": "display_data"
    },
    {
     "data": {
      "text/html": [
       "<pre style=\"white-space:pre;overflow-x:auto;line-height:normal;font-family:Menlo,'DejaVu Sans Mono',consolas,'Courier New',monospace\"><span style=\"color: #008080; text-decoration-color: #008080; font-weight: bold\">2024</span>-<span style=\"color: #008080; text-decoration-color: #008080; font-weight: bold\">07</span>-<span style=\"color: #008080; text-decoration-color: #008080; font-weight: bold\">18</span> <span style=\"color: #00ff00; text-decoration-color: #00ff00; font-weight: bold\">12:58:45</span>,<span style=\"color: #008080; text-decoration-color: #008080; font-weight: bold\">308</span> - <span style=\"font-weight: bold\">{</span>pytorch_tabular:<span style=\"color: #008080; text-decoration-color: #008080; font-weight: bold\">369</span><span style=\"font-weight: bold\">}</span> - INFO - Results: model: CategoryEmbeddingModel, # Params: <span style=\"color: #008080; text-decoration-color: #008080; font-weight: bold\">347</span> T,  \n",
       "epochs: <span style=\"color: #008080; text-decoration-color: #008080; font-weight: bold\">21</span>, test_loss: <span style=\"color: #008080; text-decoration-color: #008080; font-weight: bold\">0.1283714771270752</span>, test_accuracy: <span style=\"color: #008080; text-decoration-color: #008080; font-weight: bold\">0.9611872434616089</span>, test_f1_score: <span style=\"color: #008080; text-decoration-color: #008080; font-weight: bold\">0.9611325263977051</span>,   \n",
       "time_taken: <span style=\"color: #008080; text-decoration-color: #008080; font-weight: bold\">6.860123157501221</span>, time_taken_per_epoch: <span style=\"color: #008080; text-decoration-color: #008080; font-weight: bold\">0.32667253130958196</span>                                           \n",
       "</pre>\n"
      ],
      "text/plain": [
       "\u001b[1;36m2024\u001b[0m-\u001b[1;36m07\u001b[0m-\u001b[1;36m18\u001b[0m \u001b[1;92m12:58:45\u001b[0m,\u001b[1;36m308\u001b[0m - \u001b[1m{\u001b[0mpytorch_tabular:\u001b[1;36m369\u001b[0m\u001b[1m}\u001b[0m - INFO - Results: model: CategoryEmbeddingModel, # Params: \u001b[1;36m347\u001b[0m T,  \n",
       "epochs: \u001b[1;36m21\u001b[0m, test_loss: \u001b[1;36m0.1283714771270752\u001b[0m, test_accuracy: \u001b[1;36m0.9611872434616089\u001b[0m, test_f1_score: \u001b[1;36m0.9611325263977051\u001b[0m,   \n",
       "time_taken: \u001b[1;36m6.860123157501221\u001b[0m, time_taken_per_epoch: \u001b[1;36m0.32667253130958196\u001b[0m                                           \n"
      ]
     },
     "metadata": {},
     "output_type": "display_data"
    },
    {
     "data": {
      "text/html": [
       "<pre style=\"white-space:pre;overflow-x:auto;line-height:normal;font-family:Menlo,'DejaVu Sans Mono',consolas,'Courier New',monospace\"><span style=\"color: #008080; text-decoration-color: #008080; font-weight: bold\">2024</span>-<span style=\"color: #008080; text-decoration-color: #008080; font-weight: bold\">07</span>-<span style=\"color: #008080; text-decoration-color: #008080; font-weight: bold\">18</span> <span style=\"color: #00ff00; text-decoration-color: #00ff00; font-weight: bold\">12:58:45</span>,<span style=\"color: #008080; text-decoration-color: #008080; font-weight: bold\">331</span> - <span style=\"font-weight: bold\">{</span>pytorch_tabular:<span style=\"color: #008080; text-decoration-color: #008080; font-weight: bold\">329</span><span style=\"font-weight: bold\">}</span> - INFO - Training DANetModel                                       \n",
       "</pre>\n"
      ],
      "text/plain": [
       "\u001b[1;36m2024\u001b[0m-\u001b[1;36m07\u001b[0m-\u001b[1;36m18\u001b[0m \u001b[1;92m12:58:45\u001b[0m,\u001b[1;36m331\u001b[0m - \u001b[1m{\u001b[0mpytorch_tabular:\u001b[1;36m329\u001b[0m\u001b[1m}\u001b[0m - INFO - Training DANetModel                                       \n"
      ]
     },
     "metadata": {},
     "output_type": "display_data"
    },
    {
     "data": {
      "text/html": [
       "<pre style=\"white-space:pre;overflow-x:auto;line-height:normal;font-family:Menlo,'DejaVu Sans Mono',consolas,'Courier New',monospace\"><span style=\"color: #008080; text-decoration-color: #008080; font-weight: bold\">2024</span>-<span style=\"color: #008080; text-decoration-color: #008080; font-weight: bold\">07</span>-<span style=\"color: #008080; text-decoration-color: #008080; font-weight: bold\">18</span> <span style=\"color: #00ff00; text-decoration-color: #00ff00; font-weight: bold\">12:59:06</span>,<span style=\"color: #008080; text-decoration-color: #008080; font-weight: bold\">440</span> - <span style=\"font-weight: bold\">{</span>pytorch_tabular:<span style=\"color: #008080; text-decoration-color: #008080; font-weight: bold\">368</span><span style=\"font-weight: bold\">}</span> - INFO - Finished Training DANetModel                              \n",
       "</pre>\n"
      ],
      "text/plain": [
       "\u001b[1;36m2024\u001b[0m-\u001b[1;36m07\u001b[0m-\u001b[1;36m18\u001b[0m \u001b[1;92m12:59:06\u001b[0m,\u001b[1;36m440\u001b[0m - \u001b[1m{\u001b[0mpytorch_tabular:\u001b[1;36m368\u001b[0m\u001b[1m}\u001b[0m - INFO - Finished Training DANetModel                              \n"
      ]
     },
     "metadata": {},
     "output_type": "display_data"
    },
    {
     "data": {
      "text/html": [
       "<pre style=\"white-space:pre;overflow-x:auto;line-height:normal;font-family:Menlo,'DejaVu Sans Mono',consolas,'Courier New',monospace\"><span style=\"color: #008080; text-decoration-color: #008080; font-weight: bold\">2024</span>-<span style=\"color: #008080; text-decoration-color: #008080; font-weight: bold\">07</span>-<span style=\"color: #008080; text-decoration-color: #008080; font-weight: bold\">18</span> <span style=\"color: #00ff00; text-decoration-color: #00ff00; font-weight: bold\">12:59:06</span>,<span style=\"color: #008080; text-decoration-color: #008080; font-weight: bold\">441</span> - <span style=\"font-weight: bold\">{</span>pytorch_tabular:<span style=\"color: #008080; text-decoration-color: #008080; font-weight: bold\">369</span><span style=\"font-weight: bold\">}</span> - INFO - Results: model: DANetModel, # Params: <span style=\"color: #008080; text-decoration-color: #008080; font-weight: bold\">3</span> M, epochs: <span style=\"color: #008080; text-decoration-color: #008080; font-weight: bold\">3</span>,     \n",
       "test_loss: <span style=\"color: #008080; text-decoration-color: #008080; font-weight: bold\">0.6956878304481506</span>, test_accuracy: <span style=\"color: #008080; text-decoration-color: #008080; font-weight: bold\">0.5030441284179688</span>, test_f1_score: <span style=\"color: #008080; text-decoration-color: #008080; font-weight: bold\">0.49956104159355164</span>, time_taken:  \n",
       "<span style=\"color: #008080; text-decoration-color: #008080; font-weight: bold\">21.13013505935669</span>, time_taken_per_epoch: <span style=\"color: #008080; text-decoration-color: #008080; font-weight: bold\">7.0433783531188965</span>                                                        \n",
       "</pre>\n"
      ],
      "text/plain": [
       "\u001b[1;36m2024\u001b[0m-\u001b[1;36m07\u001b[0m-\u001b[1;36m18\u001b[0m \u001b[1;92m12:59:06\u001b[0m,\u001b[1;36m441\u001b[0m - \u001b[1m{\u001b[0mpytorch_tabular:\u001b[1;36m369\u001b[0m\u001b[1m}\u001b[0m - INFO - Results: model: DANetModel, # Params: \u001b[1;36m3\u001b[0m M, epochs: \u001b[1;36m3\u001b[0m,     \n",
       "test_loss: \u001b[1;36m0.6956878304481506\u001b[0m, test_accuracy: \u001b[1;36m0.5030441284179688\u001b[0m, test_f1_score: \u001b[1;36m0.49956104159355164\u001b[0m, time_taken:  \n",
       "\u001b[1;36m21.13013505935669\u001b[0m, time_taken_per_epoch: \u001b[1;36m7.0433783531188965\u001b[0m                                                        \n"
      ]
     },
     "metadata": {},
     "output_type": "display_data"
    },
    {
     "data": {
      "text/html": [
       "<pre style=\"white-space:pre;overflow-x:auto;line-height:normal;font-family:Menlo,'DejaVu Sans Mono',consolas,'Courier New',monospace\"><span style=\"color: #008080; text-decoration-color: #008080; font-weight: bold\">2024</span>-<span style=\"color: #008080; text-decoration-color: #008080; font-weight: bold\">07</span>-<span style=\"color: #008080; text-decoration-color: #008080; font-weight: bold\">18</span> <span style=\"color: #00ff00; text-decoration-color: #00ff00; font-weight: bold\">12:59:06</span>,<span style=\"color: #008080; text-decoration-color: #008080; font-weight: bold\">470</span> - <span style=\"font-weight: bold\">{</span>pytorch_tabular:<span style=\"color: #008080; text-decoration-color: #008080; font-weight: bold\">329</span><span style=\"font-weight: bold\">}</span> - INFO - Training GANDALFModel                                     \n",
       "</pre>\n"
      ],
      "text/plain": [
       "\u001b[1;36m2024\u001b[0m-\u001b[1;36m07\u001b[0m-\u001b[1;36m18\u001b[0m \u001b[1;92m12:59:06\u001b[0m,\u001b[1;36m470\u001b[0m - \u001b[1m{\u001b[0mpytorch_tabular:\u001b[1;36m329\u001b[0m\u001b[1m}\u001b[0m - INFO - Training GANDALFModel                                     \n"
      ]
     },
     "metadata": {},
     "output_type": "display_data"
    },
    {
     "data": {
      "text/html": [
       "<pre style=\"white-space:pre;overflow-x:auto;line-height:normal;font-family:Menlo,'DejaVu Sans Mono',consolas,'Courier New',monospace\"><span style=\"color: #008080; text-decoration-color: #008080; font-weight: bold\">2024</span>-<span style=\"color: #008080; text-decoration-color: #008080; font-weight: bold\">07</span>-<span style=\"color: #008080; text-decoration-color: #008080; font-weight: bold\">18</span> <span style=\"color: #00ff00; text-decoration-color: #00ff00; font-weight: bold\">12:59:14</span>,<span style=\"color: #008080; text-decoration-color: #008080; font-weight: bold\">148</span> - <span style=\"font-weight: bold\">{</span>pytorch_tabular:<span style=\"color: #008080; text-decoration-color: #008080; font-weight: bold\">368</span><span style=\"font-weight: bold\">}</span> - INFO - Finished Training GANDALFModel                            \n",
       "</pre>\n"
      ],
      "text/plain": [
       "\u001b[1;36m2024\u001b[0m-\u001b[1;36m07\u001b[0m-\u001b[1;36m18\u001b[0m \u001b[1;92m12:59:14\u001b[0m,\u001b[1;36m148\u001b[0m - \u001b[1m{\u001b[0mpytorch_tabular:\u001b[1;36m368\u001b[0m\u001b[1m}\u001b[0m - INFO - Finished Training GANDALFModel                            \n"
      ]
     },
     "metadata": {},
     "output_type": "display_data"
    },
    {
     "data": {
      "text/html": [
       "<pre style=\"white-space:pre;overflow-x:auto;line-height:normal;font-family:Menlo,'DejaVu Sans Mono',consolas,'Courier New',monospace\"><span style=\"color: #008080; text-decoration-color: #008080; font-weight: bold\">2024</span>-<span style=\"color: #008080; text-decoration-color: #008080; font-weight: bold\">07</span>-<span style=\"color: #008080; text-decoration-color: #008080; font-weight: bold\">18</span> <span style=\"color: #00ff00; text-decoration-color: #00ff00; font-weight: bold\">12:59:14</span>,<span style=\"color: #008080; text-decoration-color: #008080; font-weight: bold\">150</span> - <span style=\"font-weight: bold\">{</span>pytorch_tabular:<span style=\"color: #008080; text-decoration-color: #008080; font-weight: bold\">369</span><span style=\"font-weight: bold\">}</span> - INFO - Results: model: GANDALFModel, # Params: <span style=\"color: #008080; text-decoration-color: #008080; font-weight: bold\">8</span> M, epochs: <span style=\"color: #008080; text-decoration-color: #008080; font-weight: bold\">7</span>,   \n",
       "test_loss: <span style=\"color: #008080; text-decoration-color: #008080; font-weight: bold\">0.2026817947626114</span>, test_accuracy: <span style=\"color: #008080; text-decoration-color: #008080; font-weight: bold\">0.9474886059761047</span>, test_f1_score: <span style=\"color: #008080; text-decoration-color: #008080; font-weight: bold\">0.9474159479141235</span>, time_taken:   \n",
       "<span style=\"color: #008080; text-decoration-color: #008080; font-weight: bold\">7.704913854598999</span>, time_taken_per_epoch: <span style=\"color: #008080; text-decoration-color: #008080; font-weight: bold\">1.1007019792284285</span>                                                        \n",
       "</pre>\n"
      ],
      "text/plain": [
       "\u001b[1;36m2024\u001b[0m-\u001b[1;36m07\u001b[0m-\u001b[1;36m18\u001b[0m \u001b[1;92m12:59:14\u001b[0m,\u001b[1;36m150\u001b[0m - \u001b[1m{\u001b[0mpytorch_tabular:\u001b[1;36m369\u001b[0m\u001b[1m}\u001b[0m - INFO - Results: model: GANDALFModel, # Params: \u001b[1;36m8\u001b[0m M, epochs: \u001b[1;36m7\u001b[0m,   \n",
       "test_loss: \u001b[1;36m0.2026817947626114\u001b[0m, test_accuracy: \u001b[1;36m0.9474886059761047\u001b[0m, test_f1_score: \u001b[1;36m0.9474159479141235\u001b[0m, time_taken:   \n",
       "\u001b[1;36m7.704913854598999\u001b[0m, time_taken_per_epoch: \u001b[1;36m1.1007019792284285\u001b[0m                                                        \n"
      ]
     },
     "metadata": {},
     "output_type": "display_data"
    },
    {
     "data": {
      "text/html": [
       "<pre style=\"white-space:pre;overflow-x:auto;line-height:normal;font-family:Menlo,'DejaVu Sans Mono',consolas,'Courier New',monospace\"><span style=\"color: #008080; text-decoration-color: #008080; font-weight: bold\">2024</span>-<span style=\"color: #008080; text-decoration-color: #008080; font-weight: bold\">07</span>-<span style=\"color: #008080; text-decoration-color: #008080; font-weight: bold\">18</span> <span style=\"color: #00ff00; text-decoration-color: #00ff00; font-weight: bold\">12:59:14</span>,<span style=\"color: #008080; text-decoration-color: #008080; font-weight: bold\">173</span> - <span style=\"font-weight: bold\">{</span>pytorch_tabular:<span style=\"color: #008080; text-decoration-color: #008080; font-weight: bold\">329</span><span style=\"font-weight: bold\">}</span> - INFO - Training TabNetModel                                      \n",
       "</pre>\n"
      ],
      "text/plain": [
       "\u001b[1;36m2024\u001b[0m-\u001b[1;36m07\u001b[0m-\u001b[1;36m18\u001b[0m \u001b[1;92m12:59:14\u001b[0m,\u001b[1;36m173\u001b[0m - \u001b[1m{\u001b[0mpytorch_tabular:\u001b[1;36m329\u001b[0m\u001b[1m}\u001b[0m - INFO - Training TabNetModel                                      \n"
      ]
     },
     "metadata": {},
     "output_type": "display_data"
    },
    {
     "data": {
      "text/html": [
       "<pre style=\"white-space:pre;overflow-x:auto;line-height:normal;font-family:Menlo,'DejaVu Sans Mono',consolas,'Courier New',monospace\"><span style=\"color: #008080; text-decoration-color: #008080; font-weight: bold\">2024</span>-<span style=\"color: #008080; text-decoration-color: #008080; font-weight: bold\">07</span>-<span style=\"color: #008080; text-decoration-color: #008080; font-weight: bold\">18</span> <span style=\"color: #00ff00; text-decoration-color: #00ff00; font-weight: bold\">12:59:29</span>,<span style=\"color: #008080; text-decoration-color: #008080; font-weight: bold\">645</span> - <span style=\"font-weight: bold\">{</span>pytorch_tabular:<span style=\"color: #008080; text-decoration-color: #008080; font-weight: bold\">368</span><span style=\"font-weight: bold\">}</span> - INFO - Finished Training TabNetModel                             \n",
       "</pre>\n"
      ],
      "text/plain": [
       "\u001b[1;36m2024\u001b[0m-\u001b[1;36m07\u001b[0m-\u001b[1;36m18\u001b[0m \u001b[1;92m12:59:29\u001b[0m,\u001b[1;36m645\u001b[0m - \u001b[1m{\u001b[0mpytorch_tabular:\u001b[1;36m368\u001b[0m\u001b[1m}\u001b[0m - INFO - Finished Training TabNetModel                             \n"
      ]
     },
     "metadata": {},
     "output_type": "display_data"
    },
    {
     "data": {
      "text/html": [
       "<pre style=\"white-space:pre;overflow-x:auto;line-height:normal;font-family:Menlo,'DejaVu Sans Mono',consolas,'Courier New',monospace\"><span style=\"color: #008080; text-decoration-color: #008080; font-weight: bold\">2024</span>-<span style=\"color: #008080; text-decoration-color: #008080; font-weight: bold\">07</span>-<span style=\"color: #008080; text-decoration-color: #008080; font-weight: bold\">18</span> <span style=\"color: #00ff00; text-decoration-color: #00ff00; font-weight: bold\">12:59:29</span>,<span style=\"color: #008080; text-decoration-color: #008080; font-weight: bold\">647</span> - <span style=\"font-weight: bold\">{</span>pytorch_tabular:<span style=\"color: #008080; text-decoration-color: #008080; font-weight: bold\">369</span><span style=\"font-weight: bold\">}</span> - INFO - Results: model: TabNetModel, # Params: <span style=\"color: #008080; text-decoration-color: #008080; font-weight: bold\">301</span> T, epochs: <span style=\"color: #008080; text-decoration-color: #008080; font-weight: bold\">5</span>,  \n",
       "test_loss: <span style=\"color: #008080; text-decoration-color: #008080; font-weight: bold\">0.6943550109863281</span>, test_accuracy: <span style=\"color: #008080; text-decoration-color: #008080; font-weight: bold\">0.5205479264259338</span>, test_f1_score: <span style=\"color: #008080; text-decoration-color: #008080; font-weight: bold\">0.5066892504692078</span>, time_taken:   \n",
       "<span style=\"color: #008080; text-decoration-color: #008080; font-weight: bold\">15.493515968322754</span>, time_taken_per_epoch: <span style=\"color: #008080; text-decoration-color: #008080; font-weight: bold\">3.0987031936645506</span>                                                       \n",
       "</pre>\n"
      ],
      "text/plain": [
       "\u001b[1;36m2024\u001b[0m-\u001b[1;36m07\u001b[0m-\u001b[1;36m18\u001b[0m \u001b[1;92m12:59:29\u001b[0m,\u001b[1;36m647\u001b[0m - \u001b[1m{\u001b[0mpytorch_tabular:\u001b[1;36m369\u001b[0m\u001b[1m}\u001b[0m - INFO - Results: model: TabNetModel, # Params: \u001b[1;36m301\u001b[0m T, epochs: \u001b[1;36m5\u001b[0m,  \n",
       "test_loss: \u001b[1;36m0.6943550109863281\u001b[0m, test_accuracy: \u001b[1;36m0.5205479264259338\u001b[0m, test_f1_score: \u001b[1;36m0.5066892504692078\u001b[0m, time_taken:   \n",
       "\u001b[1;36m15.493515968322754\u001b[0m, time_taken_per_epoch: \u001b[1;36m3.0987031936645506\u001b[0m                                                       \n"
      ]
     },
     "metadata": {},
     "output_type": "display_data"
    },
    {
     "data": {
      "text/html": [
       "<pre style=\"white-space:pre;overflow-x:auto;line-height:normal;font-family:Menlo,'DejaVu Sans Mono',consolas,'Courier New',monospace\"><span style=\"color: #008080; text-decoration-color: #008080; font-weight: bold\">2024</span>-<span style=\"color: #008080; text-decoration-color: #008080; font-weight: bold\">07</span>-<span style=\"color: #008080; text-decoration-color: #008080; font-weight: bold\">18</span> <span style=\"color: #00ff00; text-decoration-color: #00ff00; font-weight: bold\">12:59:29</span>,<span style=\"color: #008080; text-decoration-color: #008080; font-weight: bold\">675</span> - <span style=\"font-weight: bold\">{</span>pytorch_tabular:<span style=\"color: #008080; text-decoration-color: #008080; font-weight: bold\">329</span><span style=\"font-weight: bold\">}</span> - INFO - Training TabTransformerModel                              \n",
       "</pre>\n"
      ],
      "text/plain": [
       "\u001b[1;36m2024\u001b[0m-\u001b[1;36m07\u001b[0m-\u001b[1;36m18\u001b[0m \u001b[1;92m12:59:29\u001b[0m,\u001b[1;36m675\u001b[0m - \u001b[1m{\u001b[0mpytorch_tabular:\u001b[1;36m329\u001b[0m\u001b[1m}\u001b[0m - INFO - Training TabTransformerModel                              \n"
      ]
     },
     "metadata": {},
     "output_type": "display_data"
    },
    {
     "data": {
      "text/html": [
       "<pre style=\"white-space:pre;overflow-x:auto;line-height:normal;font-family:Menlo,'DejaVu Sans Mono',consolas,'Courier New',monospace\"><span style=\"color: #008080; text-decoration-color: #008080; font-weight: bold\">2024</span>-<span style=\"color: #008080; text-decoration-color: #008080; font-weight: bold\">07</span>-<span style=\"color: #008080; text-decoration-color: #008080; font-weight: bold\">18</span> <span style=\"color: #00ff00; text-decoration-color: #00ff00; font-weight: bold\">13:00:28</span>,<span style=\"color: #008080; text-decoration-color: #008080; font-weight: bold\">748</span> - <span style=\"font-weight: bold\">{</span>pytorch_tabular:<span style=\"color: #008080; text-decoration-color: #008080; font-weight: bold\">368</span><span style=\"font-weight: bold\">}</span> - INFO - Finished Training TabTransformerModel                     \n",
       "</pre>\n"
      ],
      "text/plain": [
       "\u001b[1;36m2024\u001b[0m-\u001b[1;36m07\u001b[0m-\u001b[1;36m18\u001b[0m \u001b[1;92m13:00:28\u001b[0m,\u001b[1;36m748\u001b[0m - \u001b[1m{\u001b[0mpytorch_tabular:\u001b[1;36m368\u001b[0m\u001b[1m}\u001b[0m - INFO - Finished Training TabTransformerModel                     \n"
      ]
     },
     "metadata": {},
     "output_type": "display_data"
    },
    {
     "data": {
      "text/html": [
       "<pre style=\"white-space:pre;overflow-x:auto;line-height:normal;font-family:Menlo,'DejaVu Sans Mono',consolas,'Courier New',monospace\"><span style=\"color: #008080; text-decoration-color: #008080; font-weight: bold\">2024</span>-<span style=\"color: #008080; text-decoration-color: #008080; font-weight: bold\">07</span>-<span style=\"color: #008080; text-decoration-color: #008080; font-weight: bold\">18</span> <span style=\"color: #00ff00; text-decoration-color: #00ff00; font-weight: bold\">13:00:28</span>,<span style=\"color: #008080; text-decoration-color: #008080; font-weight: bold\">750</span> - <span style=\"font-weight: bold\">{</span>pytorch_tabular:<span style=\"color: #008080; text-decoration-color: #008080; font-weight: bold\">369</span><span style=\"font-weight: bold\">}</span> - INFO - Results: model: TabTransformerModel, # Params: <span style=\"color: #008080; text-decoration-color: #008080; font-weight: bold\">451</span> T,     \n",
       "epochs: <span style=\"color: #008080; text-decoration-color: #008080; font-weight: bold\">16</span>, test_loss: <span style=\"color: #008080; text-decoration-color: #008080; font-weight: bold\">0.2215551733970642</span>, test_accuracy: <span style=\"color: #008080; text-decoration-color: #008080; font-weight: bold\">0.9512937664985657</span>, test_f1_score: <span style=\"color: #008080; text-decoration-color: #008080; font-weight: bold\">0.9511160254478455</span>,   \n",
       "time_taken: <span style=\"color: #008080; text-decoration-color: #008080; font-weight: bold\">59.09898519515991</span>, time_taken_per_epoch: <span style=\"color: #008080; text-decoration-color: #008080; font-weight: bold\">3.6936865746974945</span>                                            \n",
       "</pre>\n"
      ],
      "text/plain": [
       "\u001b[1;36m2024\u001b[0m-\u001b[1;36m07\u001b[0m-\u001b[1;36m18\u001b[0m \u001b[1;92m13:00:28\u001b[0m,\u001b[1;36m750\u001b[0m - \u001b[1m{\u001b[0mpytorch_tabular:\u001b[1;36m369\u001b[0m\u001b[1m}\u001b[0m - INFO - Results: model: TabTransformerModel, # Params: \u001b[1;36m451\u001b[0m T,     \n",
       "epochs: \u001b[1;36m16\u001b[0m, test_loss: \u001b[1;36m0.2215551733970642\u001b[0m, test_accuracy: \u001b[1;36m0.9512937664985657\u001b[0m, test_f1_score: \u001b[1;36m0.9511160254478455\u001b[0m,   \n",
       "time_taken: \u001b[1;36m59.09898519515991\u001b[0m, time_taken_per_epoch: \u001b[1;36m3.6936865746974945\u001b[0m                                            \n"
      ]
     },
     "metadata": {},
     "output_type": "display_data"
    },
    {
     "data": {
      "text/html": [
       "<pre style=\"white-space:pre;overflow-x:auto;line-height:normal;font-family:Menlo,'DejaVu Sans Mono',consolas,'Courier New',monospace\"></pre>\n"
      ],
      "text/plain": []
     },
     "metadata": {},
     "output_type": "display_data"
    },
    {
     "data": {
      "text/html": [
       "<pre style=\"white-space:pre;overflow-x:auto;line-height:normal;font-family:Menlo,'DejaVu Sans Mono',consolas,'Courier New',monospace\">\n",
       "</pre>\n"
      ],
      "text/plain": [
       "\n"
      ]
     },
     "metadata": {},
     "output_type": "display_data"
    },
    {
     "data": {
      "text/html": [
       "<pre style=\"white-space:pre;overflow-x:auto;line-height:normal;font-family:Menlo,'DejaVu Sans Mono',consolas,'Courier New',monospace\"><span style=\"color: #008080; text-decoration-color: #008080; font-weight: bold\">2024</span>-<span style=\"color: #008080; text-decoration-color: #008080; font-weight: bold\">07</span>-<span style=\"color: #008080; text-decoration-color: #008080; font-weight: bold\">18</span> <span style=\"color: #00ff00; text-decoration-color: #00ff00; font-weight: bold\">13:00:28</span>,<span style=\"color: #008080; text-decoration-color: #008080; font-weight: bold\">757</span> - <span style=\"font-weight: bold\">{</span>pytorch_tabular:<span style=\"color: #008080; text-decoration-color: #008080; font-weight: bold\">387</span><span style=\"font-weight: bold\">}</span> - INFO - Model Sweep Finished                                      \n",
       "</pre>\n"
      ],
      "text/plain": [
       "\u001b[1;36m2024\u001b[0m-\u001b[1;36m07\u001b[0m-\u001b[1;36m18\u001b[0m \u001b[1;92m13:00:28\u001b[0m,\u001b[1;36m757\u001b[0m - \u001b[1m{\u001b[0mpytorch_tabular:\u001b[1;36m387\u001b[0m\u001b[1m}\u001b[0m - INFO - Model Sweep Finished                                      \n"
      ]
     },
     "metadata": {},
     "output_type": "display_data"
    },
    {
     "data": {
      "text/html": [
       "<pre style=\"white-space:pre;overflow-x:auto;line-height:normal;font-family:Menlo,'DejaVu Sans Mono',consolas,'Courier New',monospace\"><span style=\"color: #008080; text-decoration-color: #008080; font-weight: bold\">2024</span>-<span style=\"color: #008080; text-decoration-color: #008080; font-weight: bold\">07</span>-<span style=\"color: #008080; text-decoration-color: #008080; font-weight: bold\">18</span> <span style=\"color: #00ff00; text-decoration-color: #00ff00; font-weight: bold\">13:00:28</span>,<span style=\"color: #008080; text-decoration-color: #008080; font-weight: bold\">759</span> - <span style=\"font-weight: bold\">{</span>pytorch_tabular:<span style=\"color: #008080; text-decoration-color: #008080; font-weight: bold\">388</span><span style=\"font-weight: bold\">}</span> - INFO - Best Model: AutoIntModel                                  \n",
       "</pre>\n"
      ],
      "text/plain": [
       "\u001b[1;36m2024\u001b[0m-\u001b[1;36m07\u001b[0m-\u001b[1;36m18\u001b[0m \u001b[1;92m13:00:28\u001b[0m,\u001b[1;36m759\u001b[0m - \u001b[1m{\u001b[0mpytorch_tabular:\u001b[1;36m388\u001b[0m\u001b[1m}\u001b[0m - INFO - Best Model: AutoIntModel                                  \n"
      ]
     },
     "metadata": {},
     "output_type": "display_data"
    },
    {
     "name": "stdout",
     "output_type": "stream",
     "text": [
      "CPU times: user 1min 12s, sys: 41.4 s, total: 1min 53s\n",
      "Wall time: 2min 21s\n"
     ]
    }
   ],
   "source": [
    "%%time\n",
    "from pytorch_tabular import model_sweep\n",
    "from pytorch_tabular.models import (\n",
    "    AutoIntConfig,\n",
    "    CategoryEmbeddingModelConfig,\n",
    "    DANetConfig,\n",
    "    FTTransformerConfig,\n",
    "    GANDALFConfig,\n",
    "    GatedAdditiveTreeEnsembleConfig,\n",
    "    NodeConfig,\n",
    "    TabNetModelConfig,\n",
    "    TabTransformerConfig,\n",
    ")\n",
    "import warnings\n",
    "\n",
    "# Define the task\n",
    "task = \"classification\"\n",
    "\n",
    "# Construct the model list manually with the task argument\n",
    "model_list = [\n",
    "    AutoIntConfig(task=task),\n",
    "    CategoryEmbeddingModelConfig(task=task),\n",
    "    DANetConfig(task=task),\n",
    "    GANDALFConfig(task=task),\n",
    "    TabNetModelConfig(task=task),\n",
    "    TabTransformerConfig(task=task),\n",
    "]\n",
    "\n",
    "# Filtering out the warnings\n",
    "with warnings.catch_warnings():\n",
    "    warnings.simplefilter(\"ignore\")\n",
    "    sweep_df, best_model = model_sweep(\n",
    "        task=task,  # One of \"classification\", \"regression\"\n",
    "        train=train,\n",
    "        test=test,\n",
    "        data_config=data_config,\n",
    "        optimizer_config=optimiser_config,  # Ensure correct spelling of optimizer_config\n",
    "        trainer_config=trainer_config,\n",
    "        model_list=model_list,  # Pass the manually constructed model list\n",
    "        metrics=[\"accuracy\", \"f1_score\"],  # Metrics to evaluate\n",
    "        metrics_params=[{}, {\"average\": \"macro\"}],  # Parameters for the metrics\n",
    "        metrics_prob_input=[False, True],  # Whether the metrics require probability inputs\n",
    "        rank_metric=(\"accuracy\", \"higher_is_better\"),  # Metric to rank the models by\n",
    "        progress_bar=True,  # Show a progress bar\n",
    "        verbose=True,  # Output verbose logs\n",
    "        suppress_lightning_logger=True,  # Suppress the lightning logger\n",
    "    )\n"
   ]
  },
  {
   "cell_type": "code",
   "execution_count": 19,
   "id": "d3aa91ae",
   "metadata": {},
   "outputs": [
    {
     "data": {
      "text/html": [
       "<div>\n",
       "<style scoped>\n",
       "    .dataframe tbody tr th:only-of-type {\n",
       "        vertical-align: middle;\n",
       "    }\n",
       "\n",
       "    .dataframe tbody tr th {\n",
       "        vertical-align: top;\n",
       "    }\n",
       "\n",
       "    .dataframe thead th {\n",
       "        text-align: right;\n",
       "    }\n",
       "</style>\n",
       "<table border=\"1\" class=\"dataframe\">\n",
       "  <thead>\n",
       "    <tr style=\"text-align: right;\">\n",
       "      <th></th>\n",
       "      <th>model</th>\n",
       "      <th># Params</th>\n",
       "      <th>epochs</th>\n",
       "      <th>test_loss</th>\n",
       "      <th>test_accuracy</th>\n",
       "      <th>test_f1_score</th>\n",
       "      <th>time_taken</th>\n",
       "      <th>time_taken_per_epoch</th>\n",
       "      <th>params</th>\n",
       "    </tr>\n",
       "  </thead>\n",
       "  <tbody>\n",
       "    <tr>\n",
       "      <th>0</th>\n",
       "      <td>AutoIntModel</td>\n",
       "      <td>108 T</td>\n",
       "      <td>27</td>\n",
       "      <td>0.143654</td>\n",
       "      <td>0.965753</td>\n",
       "      <td>0.965713</td>\n",
       "      <td>30.688655</td>\n",
       "      <td>1.136617</td>\n",
       "      <td>{'task': 'classification', 'head': 'LinearHead...</td>\n",
       "    </tr>\n",
       "    <tr>\n",
       "      <th>1</th>\n",
       "      <td>CategoryEmbeddingModel</td>\n",
       "      <td>347 T</td>\n",
       "      <td>21</td>\n",
       "      <td>0.128371</td>\n",
       "      <td>0.961187</td>\n",
       "      <td>0.961133</td>\n",
       "      <td>6.860123</td>\n",
       "      <td>0.326673</td>\n",
       "      <td>{'task': 'classification', 'head': 'LinearHead...</td>\n",
       "    </tr>\n",
       "    <tr>\n",
       "      <th>5</th>\n",
       "      <td>TabTransformerModel</td>\n",
       "      <td>451 T</td>\n",
       "      <td>16</td>\n",
       "      <td>0.221555</td>\n",
       "      <td>0.951294</td>\n",
       "      <td>0.951116</td>\n",
       "      <td>59.098985</td>\n",
       "      <td>3.693687</td>\n",
       "      <td>{'task': 'classification', 'head': 'LinearHead...</td>\n",
       "    </tr>\n",
       "    <tr>\n",
       "      <th>3</th>\n",
       "      <td>GANDALFModel</td>\n",
       "      <td>8 M</td>\n",
       "      <td>7</td>\n",
       "      <td>0.202682</td>\n",
       "      <td>0.947489</td>\n",
       "      <td>0.947416</td>\n",
       "      <td>7.704914</td>\n",
       "      <td>1.100702</td>\n",
       "      <td>{'task': 'classification', 'head': 'LinearHead...</td>\n",
       "    </tr>\n",
       "    <tr>\n",
       "      <th>4</th>\n",
       "      <td>TabNetModel</td>\n",
       "      <td>301 T</td>\n",
       "      <td>5</td>\n",
       "      <td>0.694355</td>\n",
       "      <td>0.520548</td>\n",
       "      <td>0.506689</td>\n",
       "      <td>15.493516</td>\n",
       "      <td>3.098703</td>\n",
       "      <td>{'task': 'classification', 'head': 'LinearHead...</td>\n",
       "    </tr>\n",
       "    <tr>\n",
       "      <th>2</th>\n",
       "      <td>DANetModel</td>\n",
       "      <td>3 M</td>\n",
       "      <td>3</td>\n",
       "      <td>0.695688</td>\n",
       "      <td>0.503044</td>\n",
       "      <td>0.499561</td>\n",
       "      <td>21.130135</td>\n",
       "      <td>7.043378</td>\n",
       "      <td>{'task': 'classification', 'head': 'LinearHead...</td>\n",
       "    </tr>\n",
       "  </tbody>\n",
       "</table>\n",
       "</div>"
      ],
      "text/plain": [
       "                    model # Params  epochs  test_loss  test_accuracy  \\\n",
       "0            AutoIntModel    108 T      27   0.143654       0.965753   \n",
       "1  CategoryEmbeddingModel    347 T      21   0.128371       0.961187   \n",
       "5     TabTransformerModel    451 T      16   0.221555       0.951294   \n",
       "3            GANDALFModel      8 M       7   0.202682       0.947489   \n",
       "4             TabNetModel    301 T       5   0.694355       0.520548   \n",
       "2              DANetModel      3 M       3   0.695688       0.503044   \n",
       "\n",
       "   test_f1_score  time_taken  time_taken_per_epoch  \\\n",
       "0       0.965713   30.688655              1.136617   \n",
       "1       0.961133    6.860123              0.326673   \n",
       "5       0.951116   59.098985              3.693687   \n",
       "3       0.947416    7.704914              1.100702   \n",
       "4       0.506689   15.493516              3.098703   \n",
       "2       0.499561   21.130135              7.043378   \n",
       "\n",
       "                                              params  \n",
       "0  {'task': 'classification', 'head': 'LinearHead...  \n",
       "1  {'task': 'classification', 'head': 'LinearHead...  \n",
       "5  {'task': 'classification', 'head': 'LinearHead...  \n",
       "3  {'task': 'classification', 'head': 'LinearHead...  \n",
       "4  {'task': 'classification', 'head': 'LinearHead...  \n",
       "2  {'task': 'classification', 'head': 'LinearHead...  "
      ]
     },
     "execution_count": 19,
     "metadata": {},
     "output_type": "execute_result"
    }
   ],
   "source": [
    "sweep_df"
   ]
  },
  {
   "cell_type": "code",
   "execution_count": 21,
   "id": "34fcf37c",
   "metadata": {},
   "outputs": [
    {
     "data": {
      "text/html": [
       "<style type=\"text/css\">\n",
       "#T_6cf08_row0_col2 {\n",
       "  background-color: #06733d;\n",
       "  color: #f1f1f1;\n",
       "}\n",
       "#T_6cf08_row0_col3, #T_6cf08_row0_col4, #T_6cf08_row1_col2, #T_6cf08_row1_col5 {\n",
       "  background-color: #006837;\n",
       "  color: #f1f1f1;\n",
       "}\n",
       "#T_6cf08_row0_col5 {\n",
       "  background-color: #279f53;\n",
       "  color: #f1f1f1;\n",
       "}\n",
       "#T_6cf08_row1_col3, #T_6cf08_row1_col4 {\n",
       "  background-color: #026c39;\n",
       "  color: #f1f1f1;\n",
       "}\n",
       "#T_6cf08_row2_col2 {\n",
       "  background-color: #4bb05c;\n",
       "  color: #f1f1f1;\n",
       "}\n",
       "#T_6cf08_row2_col3, #T_6cf08_row2_col4 {\n",
       "  background-color: #08773f;\n",
       "  color: #f1f1f1;\n",
       "}\n",
       "#T_6cf08_row2_col5 {\n",
       "  background-color: #fffebe;\n",
       "  color: #000000;\n",
       "}\n",
       "#T_6cf08_row3_col2 {\n",
       "  background-color: #30a356;\n",
       "  color: #f1f1f1;\n",
       "}\n",
       "#T_6cf08_row3_col3, #T_6cf08_row3_col4 {\n",
       "  background-color: #0a7b41;\n",
       "  color: #f1f1f1;\n",
       "}\n",
       "#T_6cf08_row3_col5 {\n",
       "  background-color: #249d53;\n",
       "  color: #f1f1f1;\n",
       "}\n",
       "#T_6cf08_row4_col2, #T_6cf08_row5_col2, #T_6cf08_row5_col3, #T_6cf08_row5_col4, #T_6cf08_row5_col5 {\n",
       "  background-color: #a50026;\n",
       "  color: #f1f1f1;\n",
       "}\n",
       "#T_6cf08_row4_col3 {\n",
       "  background-color: #b71126;\n",
       "  color: #f1f1f1;\n",
       "}\n",
       "#T_6cf08_row4_col4 {\n",
       "  background-color: #ab0626;\n",
       "  color: #f1f1f1;\n",
       "}\n",
       "#T_6cf08_row4_col5 {\n",
       "  background-color: #ddf191;\n",
       "  color: #000000;\n",
       "}\n",
       "</style>\n",
       "<table id=\"T_6cf08\">\n",
       "  <thead>\n",
       "    <tr>\n",
       "      <th class=\"blank level0\" >&nbsp;</th>\n",
       "      <th id=\"T_6cf08_level0_col0\" class=\"col_heading level0 col0\" >model</th>\n",
       "      <th id=\"T_6cf08_level0_col1\" class=\"col_heading level0 col1\" ># Params</th>\n",
       "      <th id=\"T_6cf08_level0_col2\" class=\"col_heading level0 col2\" >test_loss</th>\n",
       "      <th id=\"T_6cf08_level0_col3\" class=\"col_heading level0 col3\" >test_accuracy</th>\n",
       "      <th id=\"T_6cf08_level0_col4\" class=\"col_heading level0 col4\" >test_f1_score</th>\n",
       "      <th id=\"T_6cf08_level0_col5\" class=\"col_heading level0 col5\" >time_taken_per_epoch</th>\n",
       "    </tr>\n",
       "  </thead>\n",
       "  <tbody>\n",
       "    <tr>\n",
       "      <th id=\"T_6cf08_level0_row0\" class=\"row_heading level0 row0\" >0</th>\n",
       "      <td id=\"T_6cf08_row0_col0\" class=\"data row0 col0\" >AutoIntModel</td>\n",
       "      <td id=\"T_6cf08_row0_col1\" class=\"data row0 col1\" >108 T</td>\n",
       "      <td id=\"T_6cf08_row0_col2\" class=\"data row0 col2\" >0.143654</td>\n",
       "      <td id=\"T_6cf08_row0_col3\" class=\"data row0 col3\" >0.965753</td>\n",
       "      <td id=\"T_6cf08_row0_col4\" class=\"data row0 col4\" >0.965713</td>\n",
       "      <td id=\"T_6cf08_row0_col5\" class=\"data row0 col5\" >1.136617</td>\n",
       "    </tr>\n",
       "    <tr>\n",
       "      <th id=\"T_6cf08_level0_row1\" class=\"row_heading level0 row1\" >1</th>\n",
       "      <td id=\"T_6cf08_row1_col0\" class=\"data row1 col0\" >CategoryEmbeddingModel</td>\n",
       "      <td id=\"T_6cf08_row1_col1\" class=\"data row1 col1\" >347 T</td>\n",
       "      <td id=\"T_6cf08_row1_col2\" class=\"data row1 col2\" >0.128371</td>\n",
       "      <td id=\"T_6cf08_row1_col3\" class=\"data row1 col3\" >0.961187</td>\n",
       "      <td id=\"T_6cf08_row1_col4\" class=\"data row1 col4\" >0.961133</td>\n",
       "      <td id=\"T_6cf08_row1_col5\" class=\"data row1 col5\" >0.326673</td>\n",
       "    </tr>\n",
       "    <tr>\n",
       "      <th id=\"T_6cf08_level0_row2\" class=\"row_heading level0 row2\" >5</th>\n",
       "      <td id=\"T_6cf08_row2_col0\" class=\"data row2 col0\" >TabTransformerModel</td>\n",
       "      <td id=\"T_6cf08_row2_col1\" class=\"data row2 col1\" >451 T</td>\n",
       "      <td id=\"T_6cf08_row2_col2\" class=\"data row2 col2\" >0.221555</td>\n",
       "      <td id=\"T_6cf08_row2_col3\" class=\"data row2 col3\" >0.951294</td>\n",
       "      <td id=\"T_6cf08_row2_col4\" class=\"data row2 col4\" >0.951116</td>\n",
       "      <td id=\"T_6cf08_row2_col5\" class=\"data row2 col5\" >3.693687</td>\n",
       "    </tr>\n",
       "    <tr>\n",
       "      <th id=\"T_6cf08_level0_row3\" class=\"row_heading level0 row3\" >3</th>\n",
       "      <td id=\"T_6cf08_row3_col0\" class=\"data row3 col0\" >GANDALFModel</td>\n",
       "      <td id=\"T_6cf08_row3_col1\" class=\"data row3 col1\" >8 M</td>\n",
       "      <td id=\"T_6cf08_row3_col2\" class=\"data row3 col2\" >0.202682</td>\n",
       "      <td id=\"T_6cf08_row3_col3\" class=\"data row3 col3\" >0.947489</td>\n",
       "      <td id=\"T_6cf08_row3_col4\" class=\"data row3 col4\" >0.947416</td>\n",
       "      <td id=\"T_6cf08_row3_col5\" class=\"data row3 col5\" >1.100702</td>\n",
       "    </tr>\n",
       "    <tr>\n",
       "      <th id=\"T_6cf08_level0_row4\" class=\"row_heading level0 row4\" >4</th>\n",
       "      <td id=\"T_6cf08_row4_col0\" class=\"data row4 col0\" >TabNetModel</td>\n",
       "      <td id=\"T_6cf08_row4_col1\" class=\"data row4 col1\" >301 T</td>\n",
       "      <td id=\"T_6cf08_row4_col2\" class=\"data row4 col2\" >0.694355</td>\n",
       "      <td id=\"T_6cf08_row4_col3\" class=\"data row4 col3\" >0.520548</td>\n",
       "      <td id=\"T_6cf08_row4_col4\" class=\"data row4 col4\" >0.506689</td>\n",
       "      <td id=\"T_6cf08_row4_col5\" class=\"data row4 col5\" >3.098703</td>\n",
       "    </tr>\n",
       "    <tr>\n",
       "      <th id=\"T_6cf08_level0_row5\" class=\"row_heading level0 row5\" >2</th>\n",
       "      <td id=\"T_6cf08_row5_col0\" class=\"data row5 col0\" >DANetModel</td>\n",
       "      <td id=\"T_6cf08_row5_col1\" class=\"data row5 col1\" >3 M</td>\n",
       "      <td id=\"T_6cf08_row5_col2\" class=\"data row5 col2\" >0.695688</td>\n",
       "      <td id=\"T_6cf08_row5_col3\" class=\"data row5 col3\" >0.503044</td>\n",
       "      <td id=\"T_6cf08_row5_col4\" class=\"data row5 col4\" >0.499561</td>\n",
       "      <td id=\"T_6cf08_row5_col5\" class=\"data row5 col5\" >7.043378</td>\n",
       "    </tr>\n",
       "  </tbody>\n",
       "</table>\n"
      ],
      "text/plain": [
       "<pandas.io.formats.style.Styler at 0x367621510>"
      ]
     },
     "execution_count": 21,
     "metadata": {},
     "output_type": "execute_result"
    }
   ],
   "source": [
    "sweep_df.drop(columns=[\"params\", \"time_taken\", \"epochs\"]).style.background_gradient(\n",
    "    subset=[\"test_accuracy\", \"test_f1_score\"], cmap=\"RdYlGn\"\n",
    ").background_gradient(subset=[\"time_taken_per_epoch\", \"test_loss\"], cmap=\"RdYlGn_r\")"
   ]
  },
  {
   "cell_type": "code",
   "execution_count": 26,
   "id": "12a1e41c",
   "metadata": {},
   "outputs": [
    {
     "data": {
      "text/plain": [
       "pandas.core.frame.DataFrame"
      ]
     },
     "execution_count": 26,
     "metadata": {},
     "output_type": "execute_result"
    }
   ],
   "source": [
    "type(sweep_df)"
   ]
  },
  {
   "cell_type": "code",
   "execution_count": 27,
   "id": "24d6cfe1",
   "metadata": {},
   "outputs": [],
   "source": [
    "daf=sweep_df[[\"model\",\"test_accuracy\",\"test_f1_score\"]]"
   ]
  },
  {
   "cell_type": "code",
   "execution_count": 28,
   "id": "b4013c11",
   "metadata": {},
   "outputs": [
    {
     "data": {
      "text/html": [
       "<div>\n",
       "<style scoped>\n",
       "    .dataframe tbody tr th:only-of-type {\n",
       "        vertical-align: middle;\n",
       "    }\n",
       "\n",
       "    .dataframe tbody tr th {\n",
       "        vertical-align: top;\n",
       "    }\n",
       "\n",
       "    .dataframe thead th {\n",
       "        text-align: right;\n",
       "    }\n",
       "</style>\n",
       "<table border=\"1\" class=\"dataframe\">\n",
       "  <thead>\n",
       "    <tr style=\"text-align: right;\">\n",
       "      <th></th>\n",
       "      <th>model</th>\n",
       "      <th>test_accuracy</th>\n",
       "      <th>test_f1_score</th>\n",
       "    </tr>\n",
       "  </thead>\n",
       "  <tbody>\n",
       "    <tr>\n",
       "      <th>0</th>\n",
       "      <td>AutoIntModel</td>\n",
       "      <td>0.965753</td>\n",
       "      <td>0.965713</td>\n",
       "    </tr>\n",
       "    <tr>\n",
       "      <th>1</th>\n",
       "      <td>CategoryEmbeddingModel</td>\n",
       "      <td>0.961187</td>\n",
       "      <td>0.961133</td>\n",
       "    </tr>\n",
       "    <tr>\n",
       "      <th>5</th>\n",
       "      <td>TabTransformerModel</td>\n",
       "      <td>0.951294</td>\n",
       "      <td>0.951116</td>\n",
       "    </tr>\n",
       "    <tr>\n",
       "      <th>3</th>\n",
       "      <td>GANDALFModel</td>\n",
       "      <td>0.947489</td>\n",
       "      <td>0.947416</td>\n",
       "    </tr>\n",
       "    <tr>\n",
       "      <th>4</th>\n",
       "      <td>TabNetModel</td>\n",
       "      <td>0.520548</td>\n",
       "      <td>0.506689</td>\n",
       "    </tr>\n",
       "    <tr>\n",
       "      <th>2</th>\n",
       "      <td>DANetModel</td>\n",
       "      <td>0.503044</td>\n",
       "      <td>0.499561</td>\n",
       "    </tr>\n",
       "  </tbody>\n",
       "</table>\n",
       "</div>"
      ],
      "text/plain": [
       "                    model  test_accuracy  test_f1_score\n",
       "0            AutoIntModel       0.965753       0.965713\n",
       "1  CategoryEmbeddingModel       0.961187       0.961133\n",
       "5     TabTransformerModel       0.951294       0.951116\n",
       "3            GANDALFModel       0.947489       0.947416\n",
       "4             TabNetModel       0.520548       0.506689\n",
       "2              DANetModel       0.503044       0.499561"
      ]
     },
     "execution_count": 28,
     "metadata": {},
     "output_type": "execute_result"
    }
   ],
   "source": [
    "daf"
   ]
  }
 ],
 "metadata": {
  "kernelspec": {
   "display_name": "Python 3 (ipykernel)",
   "language": "python",
   "name": "python3"
  },
  "language_info": {
   "codemirror_mode": {
    "name": "ipython",
    "version": 3
   },
   "file_extension": ".py",
   "mimetype": "text/x-python",
   "name": "python",
   "nbconvert_exporter": "python",
   "pygments_lexer": "ipython3",
   "version": "3.11.7"
  }
 },
 "nbformat": 4,
 "nbformat_minor": 5
}
